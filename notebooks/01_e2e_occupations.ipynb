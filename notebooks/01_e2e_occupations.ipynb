{
 "cells": [
  {
   "cell_type": "code",
   "execution_count": 2,
   "metadata": {},
   "outputs": [],
   "source": [
    "import os\n",
    "import pandas as pd\n",
    "import numpy as np\n",
    "from transformers import BertTokenizer\n",
    "import torch\n",
    "\n",
    "import sys\n",
    "sys.path.append('/home/nauel/bert_gender_bias')\n",
    "import warnings\n",
    "warnings.filterwarnings(\"ignore\")\n",
    "\n",
    "\n",
    "from pipelines.utils.paths import EXTERNAL_DATA_DIR, INTERIM_DATA_DIR"
   ]
  },
  {
   "cell_type": "code",
   "execution_count": 3,
   "metadata": {},
   "outputs": [],
   "source": [
    "gendered_words = pd.read_pickle(os.path.join(INTERIM_DATA_DIR, 'gender_binary_words_TOKEN.pkl'))\n",
    "jobs_df = pd.read_pickle(os.path.join(INTERIM_DATA_DIR, 'occupations_TOKEN.pkl'))"
   ]
  },
  {
   "cell_type": "code",
   "execution_count": 4,
   "metadata": {},
   "outputs": [
    {
     "name": "stdout",
     "output_type": "stream",
     "text": [
      "(431, 5)\n"
     ]
    },
    {
     "data": {
      "text/html": [
       "<div>\n",
       "<style scoped>\n",
       "    .dataframe tbody tr th:only-of-type {\n",
       "        vertical-align: middle;\n",
       "    }\n",
       "\n",
       "    .dataframe tbody tr th {\n",
       "        vertical-align: top;\n",
       "    }\n",
       "\n",
       "    .dataframe thead th {\n",
       "        text-align: right;\n",
       "    }\n",
       "</style>\n",
       "<table border=\"1\" class=\"dataframe\">\n",
       "  <thead>\n",
       "    <tr style=\"text-align: right;\">\n",
       "      <th></th>\n",
       "      <th>word</th>\n",
       "      <th>gender_binary</th>\n",
       "      <th>bert_token</th>\n",
       "      <th>word2vec_token</th>\n",
       "      <th>word_count</th>\n",
       "    </tr>\n",
       "  </thead>\n",
       "  <tbody>\n",
       "    <tr>\n",
       "      <th>0</th>\n",
       "      <td>abbot</td>\n",
       "      <td>0</td>\n",
       "      <td>[-0.39571184, -0.093838364, 0.06868138, 0.1723...</td>\n",
       "      <td>[0.40039062, 0.41015625, 0.36523438, 0.2207031...</td>\n",
       "      <td>1</td>\n",
       "    </tr>\n",
       "    <tr>\n",
       "      <th>1</th>\n",
       "      <td>abbots</td>\n",
       "      <td>0</td>\n",
       "      <td>[-0.18790531, -0.077521764, -0.3876859, 0.1816...</td>\n",
       "      <td>[0.30664062, 0.33398438, 0.1953125, 0.50390625...</td>\n",
       "      <td>1</td>\n",
       "    </tr>\n",
       "    <tr>\n",
       "      <th>2</th>\n",
       "      <td>adulterer</td>\n",
       "      <td>0</td>\n",
       "      <td>[-0.45352724, -0.38397712, -0.25277817, -0.266...</td>\n",
       "      <td>[0.42773438, -0.28515625, -0.0625, 0.020263672...</td>\n",
       "      <td>1</td>\n",
       "    </tr>\n",
       "    <tr>\n",
       "      <th>3</th>\n",
       "      <td>adulterers</td>\n",
       "      <td>0</td>\n",
       "      <td>[-0.17249976, -0.15101261, -0.3717648, -0.0279...</td>\n",
       "      <td>[-0.14160156, -0.22558594, -0.042236328, 0.208...</td>\n",
       "      <td>1</td>\n",
       "    </tr>\n",
       "    <tr>\n",
       "      <th>4</th>\n",
       "      <td>airman</td>\n",
       "      <td>0</td>\n",
       "      <td>[-0.20044291, -0.020562049, -0.276353, -0.0372...</td>\n",
       "      <td>[0.49023438, -0.15917969, -0.022460938, -0.024...</td>\n",
       "      <td>1</td>\n",
       "    </tr>\n",
       "    <tr>\n",
       "      <th>...</th>\n",
       "      <td>...</td>\n",
       "      <td>...</td>\n",
       "      <td>...</td>\n",
       "      <td>...</td>\n",
       "      <td>...</td>\n",
       "    </tr>\n",
       "    <tr>\n",
       "      <th>510</th>\n",
       "      <td>woman</td>\n",
       "      <td>1</td>\n",
       "      <td>[-0.34769166, -0.20875905, 0.12518345, 0.07620...</td>\n",
       "      <td>[0.24316406, -0.07714844, -0.103027344, -0.107...</td>\n",
       "      <td>1</td>\n",
       "    </tr>\n",
       "    <tr>\n",
       "      <th>511</th>\n",
       "      <td>womankind</td>\n",
       "      <td>1</td>\n",
       "      <td>[-0.24836135, -0.283562, -0.19828826, 0.071805...</td>\n",
       "      <td>[-0.096191406, -0.055908203, 0.014404297, 0.22...</td>\n",
       "      <td>1</td>\n",
       "    </tr>\n",
       "    <tr>\n",
       "      <th>512</th>\n",
       "      <td>womanly</td>\n",
       "      <td>1</td>\n",
       "      <td>[-0.3582225, -0.31381592, -0.16148914, 0.21661...</td>\n",
       "      <td>[0.01965332, -0.059570312, 0.119628906, 0.1474...</td>\n",
       "      <td>1</td>\n",
       "    </tr>\n",
       "    <tr>\n",
       "      <th>513</th>\n",
       "      <td>womanpower</td>\n",
       "      <td>1</td>\n",
       "      <td>[-0.042981803, -0.32953677, 0.07738724, 0.1452...</td>\n",
       "      <td>[-0.0041503906, -0.06225586, 0.044921875, 0.13...</td>\n",
       "      <td>1</td>\n",
       "    </tr>\n",
       "    <tr>\n",
       "      <th>514</th>\n",
       "      <td>women</td>\n",
       "      <td>1</td>\n",
       "      <td>[-0.21454988, 0.2556039, -0.08680056, 0.171355...</td>\n",
       "      <td>[-0.13964844, 0.1640625, 0.016113281, 0.107910...</td>\n",
       "      <td>1</td>\n",
       "    </tr>\n",
       "  </tbody>\n",
       "</table>\n",
       "<p>431 rows × 5 columns</p>\n",
       "</div>"
      ],
      "text/plain": [
       "           word  gender_binary  \\\n",
       "0         abbot              0   \n",
       "1        abbots              0   \n",
       "2     adulterer              0   \n",
       "3    adulterers              0   \n",
       "4        airman              0   \n",
       "..          ...            ...   \n",
       "510       woman              1   \n",
       "511   womankind              1   \n",
       "512     womanly              1   \n",
       "513  womanpower              1   \n",
       "514       women              1   \n",
       "\n",
       "                                            bert_token  \\\n",
       "0    [-0.39571184, -0.093838364, 0.06868138, 0.1723...   \n",
       "1    [-0.18790531, -0.077521764, -0.3876859, 0.1816...   \n",
       "2    [-0.45352724, -0.38397712, -0.25277817, -0.266...   \n",
       "3    [-0.17249976, -0.15101261, -0.3717648, -0.0279...   \n",
       "4    [-0.20044291, -0.020562049, -0.276353, -0.0372...   \n",
       "..                                                 ...   \n",
       "510  [-0.34769166, -0.20875905, 0.12518345, 0.07620...   \n",
       "511  [-0.24836135, -0.283562, -0.19828826, 0.071805...   \n",
       "512  [-0.3582225, -0.31381592, -0.16148914, 0.21661...   \n",
       "513  [-0.042981803, -0.32953677, 0.07738724, 0.1452...   \n",
       "514  [-0.21454988, 0.2556039, -0.08680056, 0.171355...   \n",
       "\n",
       "                                        word2vec_token  word_count  \n",
       "0    [0.40039062, 0.41015625, 0.36523438, 0.2207031...           1  \n",
       "1    [0.30664062, 0.33398438, 0.1953125, 0.50390625...           1  \n",
       "2    [0.42773438, -0.28515625, -0.0625, 0.020263672...           1  \n",
       "3    [-0.14160156, -0.22558594, -0.042236328, 0.208...           1  \n",
       "4    [0.49023438, -0.15917969, -0.022460938, -0.024...           1  \n",
       "..                                                 ...         ...  \n",
       "510  [0.24316406, -0.07714844, -0.103027344, -0.107...           1  \n",
       "511  [-0.096191406, -0.055908203, 0.014404297, 0.22...           1  \n",
       "512  [0.01965332, -0.059570312, 0.119628906, 0.1474...           1  \n",
       "513  [-0.0041503906, -0.06225586, 0.044921875, 0.13...           1  \n",
       "514  [-0.13964844, 0.1640625, 0.016113281, 0.107910...           1  \n",
       "\n",
       "[431 rows x 5 columns]"
      ]
     },
     "execution_count": 4,
     "metadata": {},
     "output_type": "execute_result"
    }
   ],
   "source": [
    "gendered_words.dropna(inplace=True)\n",
    "print(gendered_words.shape)\n",
    "gendered_words.head(1000)"
   ]
  },
  {
   "cell_type": "code",
   "execution_count": 5,
   "metadata": {},
   "outputs": [
    {
     "name": "stdout",
     "output_type": "stream",
     "text": [
      "(340, 4)\n"
     ]
    },
    {
     "data": {
      "text/html": [
       "<div>\n",
       "<style scoped>\n",
       "    .dataframe tbody tr th:only-of-type {\n",
       "        vertical-align: middle;\n",
       "    }\n",
       "\n",
       "    .dataframe tbody tr th {\n",
       "        vertical-align: top;\n",
       "    }\n",
       "\n",
       "    .dataframe thead th {\n",
       "        text-align: right;\n",
       "    }\n",
       "</style>\n",
       "<table border=\"1\" class=\"dataframe\">\n",
       "  <thead>\n",
       "    <tr style=\"text-align: right;\">\n",
       "      <th></th>\n",
       "      <th>Occupations</th>\n",
       "      <th>bert_token</th>\n",
       "      <th>word2vec_token</th>\n",
       "      <th>word_count</th>\n",
       "    </tr>\n",
       "  </thead>\n",
       "  <tbody>\n",
       "    <tr>\n",
       "      <th>0</th>\n",
       "      <td>Accountant</td>\n",
       "      <td>[0.044247508, -0.062065974, -0.28353956, 0.019...</td>\n",
       "      <td>[0.059326172, -0.1328125, -0.16796875, -0.1816...</td>\n",
       "      <td>1</td>\n",
       "    </tr>\n",
       "    <tr>\n",
       "      <th>6</th>\n",
       "      <td>Actor</td>\n",
       "      <td>[0.104604356, -0.23240899, -0.5950049, -0.1360...</td>\n",
       "      <td>[0.33789062, -0.028442383, 0.111328125, -0.181...</td>\n",
       "      <td>1</td>\n",
       "    </tr>\n",
       "    <tr>\n",
       "      <th>7</th>\n",
       "      <td>Actress</td>\n",
       "      <td>[0.044713546, -0.2707646, -0.26443234, -0.0969...</td>\n",
       "      <td>[0.24023438, -0.20214844, 0.16894531, -0.20410...</td>\n",
       "      <td>1</td>\n",
       "    </tr>\n",
       "    <tr>\n",
       "      <th>8</th>\n",
       "      <td>Actuary</td>\n",
       "      <td>[-0.102212645, -0.09090995, -0.14266734, -0.08...</td>\n",
       "      <td>[0.032714844, -0.41210938, -0.14550781, 0.3691...</td>\n",
       "      <td>1</td>\n",
       "    </tr>\n",
       "    <tr>\n",
       "      <th>9</th>\n",
       "      <td>Acupuncturist</td>\n",
       "      <td>[0.05669831, -0.22730672, -0.20539528, -0.2271...</td>\n",
       "      <td>[0.16894531, -0.29296875, 0.007507324, -0.1503...</td>\n",
       "      <td>1</td>\n",
       "    </tr>\n",
       "  </tbody>\n",
       "</table>\n",
       "</div>"
      ],
      "text/plain": [
       "     Occupations                                         bert_token  \\\n",
       "0     Accountant  [0.044247508, -0.062065974, -0.28353956, 0.019...   \n",
       "6          Actor  [0.104604356, -0.23240899, -0.5950049, -0.1360...   \n",
       "7        Actress  [0.044713546, -0.2707646, -0.26443234, -0.0969...   \n",
       "8        Actuary  [-0.102212645, -0.09090995, -0.14266734, -0.08...   \n",
       "9  Acupuncturist  [0.05669831, -0.22730672, -0.20539528, -0.2271...   \n",
       "\n",
       "                                      word2vec_token  word_count  \n",
       "0  [0.059326172, -0.1328125, -0.16796875, -0.1816...           1  \n",
       "6  [0.33789062, -0.028442383, 0.111328125, -0.181...           1  \n",
       "7  [0.24023438, -0.20214844, 0.16894531, -0.20410...           1  \n",
       "8  [0.032714844, -0.41210938, -0.14550781, 0.3691...           1  \n",
       "9  [0.16894531, -0.29296875, 0.007507324, -0.1503...           1  "
      ]
     },
     "execution_count": 5,
     "metadata": {},
     "output_type": "execute_result"
    }
   ],
   "source": [
    "jobs_df.dropna(inplace=True)\n",
    "print(jobs_df.shape)\n",
    "gendered_words.head()"
   ]
  },
  {
   "cell_type": "code",
   "execution_count": 6,
   "metadata": {},
   "outputs": [
    {
     "name": "stdout",
     "output_type": "stream",
     "text": [
      "word2vec_token\n",
      "Accuracy:  0.9976798143851509\n",
      "bert_token\n",
      "Accuracy:  0.9976798143851509\n"
     ]
    }
   ],
   "source": [
    "token_cols = ['word2vec_token','bert_token', ]\n",
    "\n",
    "import sklearn\n",
    "\n",
    "from sklearn import preprocessing\n",
    "from sklearn.svm import LinearSVC\n",
    "from sklearn.pipeline import make_pipeline\n",
    "from sklearn.preprocessing import StandardScaler\n",
    "\n",
    "for token_col in token_cols:\n",
    "    print(token_col)\n",
    "    \n",
    "    X = gendered_words[token_col].values.tolist()\n",
    "    y = np.array(gendered_words.gender_binary.tolist())\n",
    "    clf = make_pipeline(StandardScaler(),\n",
    "                        LinearSVC(random_state=0, tol=1e-5))\n",
    "    clf.fit(X, y)\n",
    "\n",
    "    print(\"Accuracy: \", clf.score(X, y))\n",
    "    "
   ]
  },
  {
   "cell_type": "code",
   "execution_count": 7,
   "metadata": {},
   "outputs": [
    {
     "name": "stdout",
     "output_type": "stream",
     "text": [
      "word2vec_token\n",
      "Accuracy:  0.877030162412993\n",
      "Number of non-zero coefficients:  8\n",
      "Number of zero coefficients:  292\n",
      "Number of coefficients:  300\n",
      "bert_token\n",
      "Accuracy:  0.8074245939675174\n",
      "Number of non-zero coefficients:  11\n",
      "Number of zero coefficients:  757\n",
      "Number of coefficients:  768\n"
     ]
    }
   ],
   "source": [
    "from sklearn.linear_model import LogisticRegression\n",
    "\n",
    "import matplotlib.pyplot as plt\n",
    "\n",
    "# Fit logistic regression with L1 regularization\n",
    "for token_col in token_cols:\n",
    "    print(token_col)\n",
    "    \n",
    "    X = gendered_words[token_col].values.tolist()\n",
    "    y = np.array(gendered_words.gender_binary.tolist())\n",
    "    logit = LogisticRegression(solver=\"liblinear\", penalty=\"l1\", C=0.1)\n",
    "    logit.fit(X, y)\n",
    "    print(\"Accuracy: \", logit.score(X, y))\n",
    "    print(\"Number of non-zero coefficients: \", np.sum(logit.coef_ != 0))\n",
    "    print(\"Number of zero coefficients: \", np.sum(logit.coef_ == 0))\n",
    "    print(\"Number of coefficients: \", len(logit.coef_[0]))"
   ]
  },
  {
   "cell_type": "code",
   "execution_count": 14,
   "metadata": {},
   "outputs": [
    {
     "data": {
      "text/html": [
       "<div>\n",
       "<style scoped>\n",
       "    .dataframe tbody tr th:only-of-type {\n",
       "        vertical-align: middle;\n",
       "    }\n",
       "\n",
       "    .dataframe tbody tr th {\n",
       "        vertical-align: top;\n",
       "    }\n",
       "\n",
       "    .dataframe thead th {\n",
       "        text-align: right;\n",
       "    }\n",
       "</style>\n",
       "<table border=\"1\" class=\"dataframe\">\n",
       "  <thead>\n",
       "    <tr style=\"text-align: right;\">\n",
       "      <th></th>\n",
       "      <th>feature</th>\n",
       "      <th>coefficient</th>\n",
       "      <th>absolute_coefficient</th>\n",
       "    </tr>\n",
       "  </thead>\n",
       "  <tbody>\n",
       "    <tr>\n",
       "      <th>52</th>\n",
       "      <td>52</td>\n",
       "      <td>1.106613</td>\n",
       "      <td>1.106613</td>\n",
       "    </tr>\n",
       "    <tr>\n",
       "      <th>1</th>\n",
       "      <td>1</td>\n",
       "      <td>-0.726055</td>\n",
       "      <td>0.726055</td>\n",
       "    </tr>\n",
       "    <tr>\n",
       "      <th>586</th>\n",
       "      <td>586</td>\n",
       "      <td>0.609460</td>\n",
       "      <td>0.609460</td>\n",
       "    </tr>\n",
       "    <tr>\n",
       "      <th>74</th>\n",
       "      <td>74</td>\n",
       "      <td>-0.556978</td>\n",
       "      <td>0.556978</td>\n",
       "    </tr>\n",
       "    <tr>\n",
       "      <th>374</th>\n",
       "      <td>374</td>\n",
       "      <td>-0.436251</td>\n",
       "      <td>0.436251</td>\n",
       "    </tr>\n",
       "    <tr>\n",
       "      <th>668</th>\n",
       "      <td>668</td>\n",
       "      <td>-0.385063</td>\n",
       "      <td>0.385063</td>\n",
       "    </tr>\n",
       "    <tr>\n",
       "      <th>765</th>\n",
       "      <td>765</td>\n",
       "      <td>-0.310590</td>\n",
       "      <td>0.310590</td>\n",
       "    </tr>\n",
       "    <tr>\n",
       "      <th>104</th>\n",
       "      <td>104</td>\n",
       "      <td>-0.271868</td>\n",
       "      <td>0.271868</td>\n",
       "    </tr>\n",
       "    <tr>\n",
       "      <th>394</th>\n",
       "      <td>394</td>\n",
       "      <td>0.053430</td>\n",
       "      <td>0.053430</td>\n",
       "    </tr>\n",
       "    <tr>\n",
       "      <th>14</th>\n",
       "      <td>14</td>\n",
       "      <td>-0.008283</td>\n",
       "      <td>0.008283</td>\n",
       "    </tr>\n",
       "    <tr>\n",
       "      <th>308</th>\n",
       "      <td>308</td>\n",
       "      <td>0.005776</td>\n",
       "      <td>0.005776</td>\n",
       "    </tr>\n",
       "  </tbody>\n",
       "</table>\n",
       "</div>"
      ],
      "text/plain": [
       "     feature  coefficient  absolute_coefficient\n",
       "52        52     1.106613              1.106613\n",
       "1          1    -0.726055              0.726055\n",
       "586      586     0.609460              0.609460\n",
       "74        74    -0.556978              0.556978\n",
       "374      374    -0.436251              0.436251\n",
       "668      668    -0.385063              0.385063\n",
       "765      765    -0.310590              0.310590\n",
       "104      104    -0.271868              0.271868\n",
       "394      394     0.053430              0.053430\n",
       "14        14    -0.008283              0.008283\n",
       "308      308     0.005776              0.005776"
      ]
     },
     "execution_count": 14,
     "metadata": {},
     "output_type": "execute_result"
    }
   ],
   "source": [
    "# Get the coefficients\n",
    "coefficients = logit.coef_[0]\n",
    "coefficients_abs = np.abs(coefficients)\n",
    "\n",
    "logit_coef = pd.DataFrame({'feature': range(len(coefficients)), 'coefficient': coefficients, 'absolute_coefficient': coefficients_abs})\n",
    "logit_coef = logit_coef.sort_values(by='absolute_coefficient', ascending=False)\n",
    "logit_coef = logit_coef[logit_coef.absolute_coefficient > 0]\n",
    "logit_coef.head(20)\n"
   ]
  },
  {
   "cell_type": "code",
   "execution_count": 16,
   "metadata": {},
   "outputs": [
    {
     "data": {
      "text/html": [
       "<div>\n",
       "<style scoped>\n",
       "    .dataframe tbody tr th:only-of-type {\n",
       "        vertical-align: middle;\n",
       "    }\n",
       "\n",
       "    .dataframe tbody tr th {\n",
       "        vertical-align: top;\n",
       "    }\n",
       "\n",
       "    .dataframe thead th {\n",
       "        text-align: right;\n",
       "    }\n",
       "</style>\n",
       "<table border=\"1\" class=\"dataframe\">\n",
       "  <thead>\n",
       "    <tr style=\"text-align: right;\">\n",
       "      <th></th>\n",
       "      <th>Occupations</th>\n",
       "      <th>bert_token</th>\n",
       "      <th>word2vec_token</th>\n",
       "      <th>word_count</th>\n",
       "      <th>selected_tokens</th>\n",
       "      <th>pc1</th>\n",
       "      <th>pc2</th>\n",
       "      <th>pc1_norm</th>\n",
       "      <th>pc2_norm</th>\n",
       "    </tr>\n",
       "  </thead>\n",
       "  <tbody>\n",
       "    <tr>\n",
       "      <th>0</th>\n",
       "      <td>Accountant</td>\n",
       "      <td>[0.044247508, -0.062065974, -0.28353956, 0.019...</td>\n",
       "      <td>[0.059326172, -0.1328125, -0.16796875, -0.1816...</td>\n",
       "      <td>1</td>\n",
       "      <td>[-0.19978876, -0.062065974, -0.2217183, 0.1216...</td>\n",
       "      <td>-0.328126</td>\n",
       "      <td>-0.068276</td>\n",
       "      <td>0.118330</td>\n",
       "      <td>0.405408</td>\n",
       "    </tr>\n",
       "    <tr>\n",
       "      <th>6</th>\n",
       "      <td>Actor</td>\n",
       "      <td>[0.104604356, -0.23240899, -0.5950049, -0.1360...</td>\n",
       "      <td>[0.33789062, -0.028442383, 0.111328125, -0.181...</td>\n",
       "      <td>1</td>\n",
       "      <td>[0.37949157, -0.23240899, -0.285422, 0.2991309...</td>\n",
       "      <td>0.032785</td>\n",
       "      <td>-0.284343</td>\n",
       "      <td>0.188251</td>\n",
       "      <td>0.257535</td>\n",
       "    </tr>\n",
       "    <tr>\n",
       "      <th>7</th>\n",
       "      <td>Actress</td>\n",
       "      <td>[0.044713546, -0.2707646, -0.26443234, -0.0969...</td>\n",
       "      <td>[0.24023438, -0.20214844, 0.16894531, -0.20410...</td>\n",
       "      <td>1</td>\n",
       "      <td>[0.4146122, -0.2707646, -0.2680458, 0.26214847...</td>\n",
       "      <td>-0.149352</td>\n",
       "      <td>-0.011998</td>\n",
       "      <td>0.152965</td>\n",
       "      <td>0.443923</td>\n",
       "    </tr>\n",
       "    <tr>\n",
       "      <th>8</th>\n",
       "      <td>Actuary</td>\n",
       "      <td>[-0.102212645, -0.09090995, -0.14266734, -0.08...</td>\n",
       "      <td>[0.032714844, -0.41210938, -0.14550781, 0.3691...</td>\n",
       "      <td>1</td>\n",
       "      <td>[0.016106425, -0.09090995, 0.0009229609, 0.196...</td>\n",
       "      <td>0.164899</td>\n",
       "      <td>-0.108010</td>\n",
       "      <td>0.213846</td>\n",
       "      <td>0.378215</td>\n",
       "    </tr>\n",
       "    <tr>\n",
       "      <th>9</th>\n",
       "      <td>Acupuncturist</td>\n",
       "      <td>[0.05669831, -0.22730672, -0.20539528, -0.2271...</td>\n",
       "      <td>[0.16894531, -0.29296875, 0.007507324, -0.1503...</td>\n",
       "      <td>1</td>\n",
       "      <td>[-0.15688932, -0.22730672, 0.46686733, -0.1121...</td>\n",
       "      <td>1.803289</td>\n",
       "      <td>0.458955</td>\n",
       "      <td>0.531259</td>\n",
       "      <td>0.766236</td>\n",
       "    </tr>\n",
       "  </tbody>\n",
       "</table>\n",
       "</div>"
      ],
      "text/plain": [
       "     Occupations                                         bert_token  \\\n",
       "0     Accountant  [0.044247508, -0.062065974, -0.28353956, 0.019...   \n",
       "6          Actor  [0.104604356, -0.23240899, -0.5950049, -0.1360...   \n",
       "7        Actress  [0.044713546, -0.2707646, -0.26443234, -0.0969...   \n",
       "8        Actuary  [-0.102212645, -0.09090995, -0.14266734, -0.08...   \n",
       "9  Acupuncturist  [0.05669831, -0.22730672, -0.20539528, -0.2271...   \n",
       "\n",
       "                                      word2vec_token  word_count  \\\n",
       "0  [0.059326172, -0.1328125, -0.16796875, -0.1816...           1   \n",
       "6  [0.33789062, -0.028442383, 0.111328125, -0.181...           1   \n",
       "7  [0.24023438, -0.20214844, 0.16894531, -0.20410...           1   \n",
       "8  [0.032714844, -0.41210938, -0.14550781, 0.3691...           1   \n",
       "9  [0.16894531, -0.29296875, 0.007507324, -0.1503...           1   \n",
       "\n",
       "                                     selected_tokens       pc1       pc2  \\\n",
       "0  [-0.19978876, -0.062065974, -0.2217183, 0.1216... -0.328126 -0.068276   \n",
       "6  [0.37949157, -0.23240899, -0.285422, 0.2991309...  0.032785 -0.284343   \n",
       "7  [0.4146122, -0.2707646, -0.2680458, 0.26214847... -0.149352 -0.011998   \n",
       "8  [0.016106425, -0.09090995, 0.0009229609, 0.196...  0.164899 -0.108010   \n",
       "9  [-0.15688932, -0.22730672, 0.46686733, -0.1121...  1.803289  0.458955   \n",
       "\n",
       "   pc1_norm  pc2_norm  \n",
       "0  0.118330  0.405408  \n",
       "6  0.188251  0.257535  \n",
       "7  0.152965  0.443923  \n",
       "8  0.213846  0.378215  \n",
       "9  0.531259  0.766236  "
      ]
     },
     "execution_count": 16,
     "metadata": {},
     "output_type": "execute_result"
    }
   ],
   "source": [
    "selected_features = logit_coef.feature.values\n",
    "\n",
    "jobs_df['selected_tokens'] = jobs_df.bert_token.apply(lambda x: [x[i] for i in selected_features])\n",
    "jobs_df.head()"
   ]
  },
  {
   "cell_type": "code",
   "execution_count": 18,
   "metadata": {},
   "outputs": [
    {
     "name": "stdout",
     "output_type": "stream",
     "text": [
      "Explained variance:  [0.6598749  0.06972593]\n"
     ]
    },
    {
     "data": {
      "text/html": [
       "<div>\n",
       "<style scoped>\n",
       "    .dataframe tbody tr th:only-of-type {\n",
       "        vertical-align: middle;\n",
       "    }\n",
       "\n",
       "    .dataframe tbody tr th {\n",
       "        vertical-align: top;\n",
       "    }\n",
       "\n",
       "    .dataframe thead th {\n",
       "        text-align: right;\n",
       "    }\n",
       "</style>\n",
       "<table border=\"1\" class=\"dataframe\">\n",
       "  <thead>\n",
       "    <tr style=\"text-align: right;\">\n",
       "      <th></th>\n",
       "      <th>Occupations</th>\n",
       "      <th>bert_token</th>\n",
       "      <th>word2vec_token</th>\n",
       "      <th>word_count</th>\n",
       "      <th>selected_tokens</th>\n",
       "      <th>pc1</th>\n",
       "      <th>pc2</th>\n",
       "      <th>pc1_norm</th>\n",
       "      <th>pc2_norm</th>\n",
       "    </tr>\n",
       "  </thead>\n",
       "  <tbody>\n",
       "    <tr>\n",
       "      <th>0</th>\n",
       "      <td>Accountant</td>\n",
       "      <td>[0.044247508, -0.062065974, -0.28353956, 0.019...</td>\n",
       "      <td>[0.059326172, -0.1328125, -0.16796875, -0.1816...</td>\n",
       "      <td>1</td>\n",
       "      <td>[-0.19978876, -0.062065974, -0.2217183, 0.1216...</td>\n",
       "      <td>-0.328126</td>\n",
       "      <td>-0.068276</td>\n",
       "      <td>0.118330</td>\n",
       "      <td>0.405408</td>\n",
       "    </tr>\n",
       "    <tr>\n",
       "      <th>6</th>\n",
       "      <td>Actor</td>\n",
       "      <td>[0.104604356, -0.23240899, -0.5950049, -0.1360...</td>\n",
       "      <td>[0.33789062, -0.028442383, 0.111328125, -0.181...</td>\n",
       "      <td>1</td>\n",
       "      <td>[0.37949157, -0.23240899, -0.285422, 0.2991309...</td>\n",
       "      <td>0.032785</td>\n",
       "      <td>-0.284343</td>\n",
       "      <td>0.188251</td>\n",
       "      <td>0.257535</td>\n",
       "    </tr>\n",
       "    <tr>\n",
       "      <th>7</th>\n",
       "      <td>Actress</td>\n",
       "      <td>[0.044713546, -0.2707646, -0.26443234, -0.0969...</td>\n",
       "      <td>[0.24023438, -0.20214844, 0.16894531, -0.20410...</td>\n",
       "      <td>1</td>\n",
       "      <td>[0.4146122, -0.2707646, -0.2680458, 0.26214847...</td>\n",
       "      <td>-0.149352</td>\n",
       "      <td>-0.011998</td>\n",
       "      <td>0.152965</td>\n",
       "      <td>0.443923</td>\n",
       "    </tr>\n",
       "    <tr>\n",
       "      <th>8</th>\n",
       "      <td>Actuary</td>\n",
       "      <td>[-0.102212645, -0.09090995, -0.14266734, -0.08...</td>\n",
       "      <td>[0.032714844, -0.41210938, -0.14550781, 0.3691...</td>\n",
       "      <td>1</td>\n",
       "      <td>[0.016106425, -0.09090995, 0.0009229609, 0.196...</td>\n",
       "      <td>0.164899</td>\n",
       "      <td>-0.108010</td>\n",
       "      <td>0.213846</td>\n",
       "      <td>0.378215</td>\n",
       "    </tr>\n",
       "    <tr>\n",
       "      <th>9</th>\n",
       "      <td>Acupuncturist</td>\n",
       "      <td>[0.05669831, -0.22730672, -0.20539528, -0.2271...</td>\n",
       "      <td>[0.16894531, -0.29296875, 0.007507324, -0.1503...</td>\n",
       "      <td>1</td>\n",
       "      <td>[-0.15688932, -0.22730672, 0.46686733, -0.1121...</td>\n",
       "      <td>1.803289</td>\n",
       "      <td>0.458955</td>\n",
       "      <td>0.531259</td>\n",
       "      <td>0.766236</td>\n",
       "    </tr>\n",
       "  </tbody>\n",
       "</table>\n",
       "</div>"
      ],
      "text/plain": [
       "     Occupations                                         bert_token  \\\n",
       "0     Accountant  [0.044247508, -0.062065974, -0.28353956, 0.019...   \n",
       "6          Actor  [0.104604356, -0.23240899, -0.5950049, -0.1360...   \n",
       "7        Actress  [0.044713546, -0.2707646, -0.26443234, -0.0969...   \n",
       "8        Actuary  [-0.102212645, -0.09090995, -0.14266734, -0.08...   \n",
       "9  Acupuncturist  [0.05669831, -0.22730672, -0.20539528, -0.2271...   \n",
       "\n",
       "                                      word2vec_token  word_count  \\\n",
       "0  [0.059326172, -0.1328125, -0.16796875, -0.1816...           1   \n",
       "6  [0.33789062, -0.028442383, 0.111328125, -0.181...           1   \n",
       "7  [0.24023438, -0.20214844, 0.16894531, -0.20410...           1   \n",
       "8  [0.032714844, -0.41210938, -0.14550781, 0.3691...           1   \n",
       "9  [0.16894531, -0.29296875, 0.007507324, -0.1503...           1   \n",
       "\n",
       "                                     selected_tokens       pc1       pc2  \\\n",
       "0  [-0.19978876, -0.062065974, -0.2217183, 0.1216... -0.328126 -0.068276   \n",
       "6  [0.37949157, -0.23240899, -0.285422, 0.2991309...  0.032785 -0.284343   \n",
       "7  [0.4146122, -0.2707646, -0.2680458, 0.26214847... -0.149352 -0.011998   \n",
       "8  [0.016106425, -0.09090995, 0.0009229609, 0.196...  0.164899 -0.108010   \n",
       "9  [-0.15688932, -0.22730672, 0.46686733, -0.1121...  1.803289  0.458955   \n",
       "\n",
       "   pc1_norm  pc2_norm  \n",
       "0  0.118330  0.405408  \n",
       "6  0.188251  0.257535  \n",
       "7  0.152965  0.443923  \n",
       "8  0.213846  0.378215  \n",
       "9  0.531259  0.766236  "
      ]
     },
     "execution_count": 18,
     "metadata": {},
     "output_type": "execute_result"
    }
   ],
   "source": [
    "from sklearn.decomposition import PCA\n",
    "\n",
    "# Perform PCA to reduce to 2 dimensions\n",
    "pca = PCA(n_components=2)\n",
    "\n",
    "X = jobs_df['selected_tokens'].tolist()\n",
    "principal_components = pca.fit_transform(X)\n",
    "print(\"Explained variance: \", pca.explained_variance_ratio_)\n",
    "jobs_df['pc1'] = principal_components[:, 0]\n",
    "jobs_df['pc2'] = principal_components[:, 1]\n",
    "\n",
    "jobs_df['pc1_norm'] = (jobs_df['pc1'] - jobs_df['pc1'].min()) / (jobs_df['pc1'].max() - jobs_df['pc1'].min())\n",
    "jobs_df['pc2_norm'] = (jobs_df['pc2'] - jobs_df['pc2'].min()) / (jobs_df['pc2'].max() - jobs_df['pc2'].min())\n",
    "\n",
    "jobs_df.head()"
   ]
  },
  {
   "cell_type": "code",
   "execution_count": 11,
   "metadata": {},
   "outputs": [
    {
     "data": {
      "application/vnd.plotly.v1+json": {
       "config": {
        "plotlyServerURL": "https://plot.ly"
       },
       "data": [
        {
         "hovertemplate": "<b>%{hovertext}</b><br><br>Principal Component 1=%{x}<br>Principal Component 2=%{y}<extra></extra>",
         "hovertext": [
          "Accountant",
          "Actor",
          "Actress",
          "Actuary",
          "Acupuncturist",
          "Administrator",
          "Agent",
          "Airman",
          "Anaesthetist",
          "Analyst",
          "Anthropologist",
          "Arbitrator",
          "Arborist",
          "Archaeologist",
          "Architect",
          "Archivist",
          "Artist",
          "Arts",
          "Assessor",
          "Assistant",
          "Astrologer",
          "Astronomer",
          "Attendant",
          "Auctioneer",
          "Audiologist",
          "Auditor",
          "Bailiff",
          "Baker",
          "Balloonist",
          "Barber",
          "Barmaid",
          "Barman",
          "Barrister",
          "Beautician",
          "Biochemist",
          "Biologist",
          "Blacksmith",
          "Bodyguard",
          "Bodyshop",
          "Bookmaker",
          "Botanist",
          "Breeder",
          "Brewer",
          "Bricklayer",
          "Broadcaster",
          "Builder",
          "Bursar",
          "Butcher",
          "Butler",
          "Buyer",
          "Cameraman",
          "Caretaker",
          "Carpenter",
          "Cartographer",
          "Cartoonist",
          "Cashier",
          "Caterer",
          "Caulker",
          "Chambermaid",
          "Chandler",
          "Chaplain",
          "Chartered",
          "Chauffeur",
          "Chef",
          "Chemist",
          "Childminder",
          "Chiropractor",
          "Choreographer",
          "Clairvoyant",
          "Cleaner",
          "Clergyman",
          "Cleric",
          "Clerk",
          "Commissioned",
          "Consultant",
          "Coroner",
          "Councillor",
          "Counsellor",
          "Dealer",
          "Decorator",
          "Doctor",
          "Driver",
          "Economist",
          "Editor",
          "Employee",
          "Employment",
          "Engineer",
          "Entertainer",
          "Envoy",
          "Executive",
          "Farmer",
          "Fireman",
          "Florist",
          "Footballer",
          "Foreman",
          "Forester",
          "Furrier",
          "Gambler",
          "Gamekeeper",
          "Garda",
          "Gardener",
          "Genealogist",
          "Geologist",
          "Geophysicist",
          "Gilder",
          "Glazier",
          "Goldsmith",
          "Golfer",
          "Governor",
          "Greengrocer",
          "Grocer",
          "Groom",
          "Groundsman",
          "Gynaecologist",
          "Hairdresser",
          "Handyman",
          "Hawker",
          "Herbalist",
          "Historian",
          "Homeopath",
          "Horticulturalist",
          "Hostess",
          "Hotelier",
          "Housekeeper",
          "Housewife",
          "Hygienist",
          "Hypnotherapist",
          "Hypnotist",
          "Illustrator",
          "Importer",
          "Inspector",
          "Instructor",
          "Interpreter",
          "Interviewer",
          "Inventor",
          "Investigator",
          "Ironmonger",
          "Janitor",
          "Jeweller",
          "Jewellery",
          "Jockey",
          "Joiner",
          "Journalist",
          "Judge",
          "Knitter",
          "Labourer",
          "Laminator",
          "Landlady",
          "Landlord",
          "Landowner",
          "Lawyer",
          "Lecturer",
          "Librarian",
          "Licensee",
          "Licensing",
          "Lifeguard",
          "Lineman",
          "Linguist",
          "Locksmith",
          "Lumberjack",
          "Machinist",
          "Magician",
          "Magistrate",
          "Maid",
          "Manicurist",
          "Manufacturing",
          "Masseur",
          "Masseuse",
          "Mathematician",
          "Matron",
          "Mechanic",
          "Merchandiser",
          "Merchant",
          "Messenger",
          "Metallurgist",
          "Meteorologist",
          "Microbiologist",
          "Midwife",
          "Milkman",
          "Miller",
          "Milliner",
          "Millwright",
          "Miner",
          "Mortician",
          "Musician",
          "Nanny",
          "Navigator",
          "Negotiator",
          "Neurologist",
          "Newsagent",
          "Nun",
          "Nurse",
          "Nurseryman",
          "Nutritionist",
          "Operations",
          "Operative",
          "Operator",
          "Optical",
          "Optician",
          "Optometrist",
          "Orchestral",
          "Organiser",
          "Organist",
          "Ornamental",
          "Ornithologist",
          "Orthopaedic",
          "Osteopath",
          "Packaging",
          "Packer",
          "Paediatrician",
          "Painter",
          "Palaeontologist",
          "Paramedic",
          "Pathologist",
          "Patrolman",
          "Pawnbroker",
          "Pharmacist",
          "Philatelist",
          "Photographer",
          "Physician",
          "Physicist",
          "Physiologist",
          "Physiotherapist",
          "Pilot",
          "Plasterer",
          "Plater",
          "Plumber",
          "Podiatrist",
          "Polisher",
          "Porter",
          "Postman",
          "Postmaster",
          "Postwoman",
          "Potter",
          "Preacher",
          "Premises",
          "Presser",
          "Priest",
          "Printer",
          "Producer",
          "Projectionist",
          "Promoter",
          "Proprietor",
          "Psychiatrist",
          "Psychoanalyst",
          "Psychologist",
          "Psychotherapist",
          "Publican",
          "Publisher",
          "Purser",
          "Radiographer",
          "Radiologist",
          "Receptionist",
          "Recorder",
          "Recreational",
          "Rector",
          "Reflexologist",
          "Registrar",
          "Regulator",
          "Repairer",
          "Reporter",
          "Representative",
          "Researcher",
          "Restaurateur",
          "Restorer",
          "Retired",
          "Rigger",
          "Riveter",
          "Roofer",
          "Saddler",
          "Salesman",
          "Saleswoman",
          "Scaffolder",
          "Scientist",
          "Sculptor",
          "Seaman",
          "Seamstress",
          "Secretary",
          "Servant",
          "Shepherd",
          "Sheriff",
          "Shipwright",
          "Showman",
          "Signalman",
          "Skipper",
          "Slater",
          "Smallholder",
          "Soldier",
          "Solicitor",
          "Sportsman",
          "Sportsperson",
          "Sportswoman",
          "Stationer",
          "Statistician",
          "Steeplejack",
          "Stenographer",
          "Steward",
          "Stewardess",
          "Stockbroker",
          "Stockman",
          "Stonemason",
          "Student",
          "Supervisor",
          "Surgeon",
          "Surveyor",
          "Tacker",
          "Tailor",
          "Tanner",
          "Tattooist",
          "Taxidermist",
          "Teacher",
          "Technician",
          "Telecommunication",
          "Telecommunications",
          "Thatcher",
          "Therapist",
          "Tiler",
          "Tobacconist",
          "Transcriber",
          "Translator",
          "Treasurer",
          "Turner",
          "Tutor",
          "Typist",
          "Undertaker",
          "Underwriter",
          "Valuer",
          "Ventriloquist",
          "Verger",
          "Vicar",
          "Violinist",
          "Waiter",
          "Waitress",
          "Warden",
          "Warehouseman",
          "Watchmaker",
          "Weaver",
          "Welder",
          "Writer",
          "Zoologist"
         ],
         "legendgroup": "",
         "marker": {
          "color": "#636efa",
          "symbol": "circle"
         },
         "mode": "markers",
         "name": "",
         "orientation": "v",
         "showlegend": false,
         "type": "scatter",
         "x": [
          -0.32812637287760044,
          0.03278507950263018,
          -0.1493516177147594,
          0.16489870504665646,
          1.803288872037741,
          -0.7333977729120553,
          -0.7022783530992414,
          0.3645551939421834,
          2.5424446922265918,
          -0.46957905526608745,
          -0.47027290772647656,
          0.6193810941959417,
          0.16451521855331455,
          -0.23730400071510852,
          -0.044996843895791463,
          0.6351509224242889,
          -0.49526679970439075,
          -0.5956505445555607,
          0.15996414721973579,
          -0.5872379187601925,
          0.3886500618177561,
          0.0049809182373258334,
          -0.8173637498885066,
          0.09660687055375651,
          0.5414079234160677,
          -0.5650160916815874,
          -0.13930094995406236,
          -0.5982503128837865,
          0.21554807316435246,
          -0.6569180952887813,
          -0.068001585040391,
          0.19431014635871727,
          -0.4239874060490861,
          0.5428120707208862,
          0.7463671597110877,
          -0.08960436271851906,
          -0.4377924899794008,
          -0.7485546822856004,
          0.22868394041580203,
          -0.28621953790694915,
          -0.05399600700801151,
          0.09943689216732643,
          -0.5815194024829664,
          0.5738048281720598,
          -0.35530299466246446,
          -0.5817039274048249,
          0.4186129334675614,
          -0.6403495028745257,
          -0.710685645225277,
          -0.5020416881693344,
          0.02620748688304631,
          -0.06566681914455655,
          -0.5051083614183471,
          0.5635789803598029,
          -0.4914760174093205,
          0.10409920351866658,
          -0.30965976893482466,
          -0.4511804958388196,
          0.04432383462839027,
          -0.6819051518358362,
          -0.3121270865474436,
          -0.8737339584253172,
          1.910591427381307,
          -0.6034104514827622,
          -0.21375159429540772,
          0.7030698627209556,
          2.052701646553774,
          -0.09855873854854821,
          1.0770675966875098,
          -0.6218768859795865,
          -0.21109820525103454,
          -0.5564728706224674,
          -0.3575193370525557,
          -0.5712709658909944,
          -0.42621214352680725,
          -0.32639830974265155,
          -0.38934477300181564,
          -0.13228136831800363,
          -0.8206218330679218,
          0.3338272118413771,
          -0.830719962801399,
          -0.7592164357714849,
          -0.08474062969303678,
          -0.47819227526042657,
          -0.8202730786196533,
          -0.455179874657,
          0.23204226026783864,
          -0.5305635650622232,
          -0.5893379899988682,
          -0.6052623026068072,
          -0.08989150221873606,
          0.7511022326620396,
          1.2115299343338395,
          0.2300448424213156,
          -0.5490470742228121,
          0.06340129111184527,
          -0.4599493793675025,
          -0.4221524255292201,
          -0.5532450947821027,
          0.41123442379667224,
          -0.6207537650351468,
          0.549857353595958,
          -0.3051826602484676,
          2.0330610335797052,
          -0.3930689882887939,
          0.06969001910468843,
          -0.4750904151770028,
          -0.3123185389032908,
          -0.3656530404437527,
          1.4812635733960406,
          1.2389321558691169,
          -0.4475806159932811,
          0.05647422431038421,
          1.7158182399261872,
          1.005512797274434,
          0.5585665203214378,
          -0.4517593797574753,
          -0.09202061246602859,
          -0.41532488134503076,
          0.956219495160337,
          0.8644416469508637,
          -0.751936836595428,
          0.027032689613643718,
          -0.5271231353320263,
          0.2584458423435829,
          1.3043922915531128,
          2.7061430314950434,
          1.2115705258725957,
          -0.4580368944724067,
          0.41173292410027373,
          -0.6317967957670925,
          -0.6670912358987411,
          -0.6477939694599865,
          -0.27021578983181993,
          -0.4014621545111325,
          -0.4565836247872971,
          1.3350073616777753,
          -0.23555878009083417,
          0.3622133108340975,
          -0.5142566437297996,
          -0.6846650784052358,
          -0.2784957046203643,
          -0.24053296674842364,
          -0.5067055399581945,
          0.1930616037647878,
          0.17482007450774292,
          -0.28702696906190084,
          0.9513178597352311,
          -0.6730488579504031,
          -0.5527239168833303,
          -0.30230121787585873,
          -0.4812240300770605,
          -0.1571184245224164,
          0.5389875607336895,
          -0.6966617370098988,
          -0.32667625638931613,
          -0.38098268478085057,
          -0.27922178720238994,
          0.08082499072492859,
          -0.41838962448855277,
          1.1423233666578252,
          -0.4940314890220902,
          -0.6562826926880844,
          -0.5663838403847673,
          0.6330561323216195,
          -0.2766535908797429,
          -0.32598238056629875,
          -0.0829980850026612,
          0.24760577445011192,
          0.44333923123430513,
          -0.6645485545335941,
          -0.42577694818797085,
          -0.5041319047954461,
          -0.36101237572648387,
          1.1874415022984464,
          0.18059377658706283,
          0.856279074106701,
          0.27676955341775134,
          -0.07369836793287433,
          -0.6076589581893298,
          0.06589042967184025,
          0.2620347367055324,
          -0.9389125047183906,
          0.9163553522834114,
          -0.45023094216614107,
          -0.2950417035526677,
          -0.641897841729596,
          1.3268628284188255,
          0.8783996444029624,
          -0.0052625405416361105,
          -0.6235612861932986,
          -0.6317430296378316,
          0.14899540821050178,
          0.20197223803067146,
          -0.8674944338090835,
          -0.7286474171023483,
          -0.7374868774353096,
          -0.6265117890067995,
          0.32779932031841147,
          1.277004435946115,
          -0.19122332288018,
          -0.24955342277208128,
          -0.17532815998130324,
          -0.29864595730871046,
          1.8651965598550337,
          4.222788539101066,
          2.0533679222215953,
          -0.531314494420265,
          0.09206351903639086,
          2.9943592684898332,
          -0.22884670460082007,
          2.2142339268962075,
          2.2092182262796785,
          0.42793539208860454,
          0.17269141980065916,
          1.0672785279983825,
          1.8589383159158541,
          1.300830825165383,
          -0.3640492204946452,
          -0.584621305563827,
          -0.0320389940391361,
          1.9187467435190102,
          3.6952668541371287,
          -0.6970423223752329,
          0.27918918829620865,
          -0.5309998784625605,
          0.8552464185166196,
          0.7909137110079857,
          -0.7343520314874457,
          -0.728786169683235,
          0.24766401829394047,
          -0.18729521215947395,
          -0.38437594758200405,
          -0.7206341509417171,
          -0.622964637943765,
          -0.8085542583999071,
          0.6871933902039455,
          -0.6644364772112576,
          -0.5587787673394643,
          0.4384365167554818,
          0.24035608896965763,
          -0.5779299439409851,
          -0.897601680448995,
          -0.3903365991301572,
          1.0946852647314222,
          -0.2557112093365691,
          2.2045559903171994,
          -0.3784341071148379,
          -0.5136931050374992,
          0.15183000692276324,
          0.08490240613958237,
          0.4027730024557784,
          -0.36886653539586395,
          -0.503413117623824,
          -0.7157937199003046,
          -0.08827627483822575,
          -0.2750204976761255,
          -0.3909211841515388,
          -0.8808691177478258,
          -0.16740527974054395,
          -0.49523032194159644,
          -0.5954362229194426,
          -0.5234088171835225,
          2.19257691320183,
          -0.3494987299635441,
          -0.36395177990397404,
          -0.5089643386116985,
          -0.31643433432295076,
          0.34067874767897255,
          -0.07350074159322618,
          -0.759210881670256,
          0.14266015267065613,
          -0.09375219567648312,
          -0.3590697312041831,
          -0.28943269198618954,
          -0.4103633439872834,
          1.7502905733499081,
          -0.39217864655672363,
          -0.8013640016354036,
          -0.8699511539236633,
          -0.680168736309962,
          -0.05412122884012946,
          -0.3516355671279753,
          0.4245489339978246,
          -0.7694982017166434,
          -0.6531944114918958,
          -0.5772848903185815,
          -0.6373668516711479,
          -0.35789913158563524,
          -0.3754232349519703,
          0.1753938879082656,
          0.08239214896812803,
          -0.013209667014018532,
          1.600964849143874,
          0.32060383501691414,
          1.1318185113763515,
          -0.6213522530471537,
          -0.480432440071739,
          0.6683900159556754,
          -0.43739629785282214,
          1.6244816686976737,
          -0.74206124112019,
          -0.24346973680930303,
          -0.1945677777055926,
          -0.1347388386180432,
          -0.7546617298009446,
          -0.5308754252254543,
          -0.6653225382685021,
          0.030646147438712298,
          0.3812293836898027,
          -0.7147022154474307,
          -0.6271823526634527,
          -0.4182879239715468,
          -0.23321620955444242,
          -0.22257208168887624,
          -0.4537187269166179,
          -0.5110416400182636,
          -0.402259269436902,
          0.7825583802521165,
          -0.27900301739850547,
          0.2731296250233785,
          -0.6003106731464982,
          -0.8045049035288397,
          1.1471623676286733,
          -0.05533578309907595,
          -0.17276557509827914,
          -0.5359175409774175,
          1.33031799539002,
          -0.5469376662224585,
          0.27592503063115403,
          -0.12820789543260666,
          -0.6234792203084941,
          -0.3886324943913695,
          -0.6258655970893396,
          -0.4692299854706055,
          -0.5280209018089952,
          -0.5645544426281494,
          -0.36392748722306306,
          -0.07965796280845908,
          0.17615483909383378
         ],
         "xaxis": "x",
         "y": [
          -0.06827612817690973,
          -0.28434326092080214,
          -0.011998379673956061,
          -0.1080100656166981,
          0.45895547863898056,
          0.11590077787953766,
          -0.09870356694725674,
          0.24838818188780812,
          -0.2781614349803728,
          -0.24773336458474485,
          0.3348123994388452,
          -0.3394496856514805,
          0.02626224622722581,
          -0.17645781987571657,
          0.127914879571781,
          -0.09231640246666413,
          -0.22376592584830732,
          0.461572448210548,
          -0.2328991074054701,
          -0.19029698292331387,
          -0.05042674149667019,
          -0.3174223311178131,
          0.17311703147423918,
          -0.4410219850453943,
          0.00805894957188545,
          -0.21252611074835803,
          -0.03514615520667815,
          0.2591304133013216,
          -0.5216963342783594,
          0.27194097355891583,
          0.38324088940341666,
          -0.07577376280769935,
          -0.008261787002605941,
          0.05796767928536641,
          0.18084135883808317,
          0.11279866802900536,
          -0.3546905478214747,
          -0.0332223043309806,
          0.049319600464408676,
          0.09421044862925239,
          0.005152087594979132,
          0.1010841080434607,
          0.4283188453453633,
          -0.32289788888317567,
          -0.3149083698209041,
          -0.15623905009114814,
          0.09899511435158825,
          -0.25671958941137685,
          0.25431527720950725,
          -0.2871963717924704,
          -0.29879372622171696,
          -0.1782547159798186,
          0.305336359293709,
          0.10138532719512788,
          -0.04878081860035998,
          0.14394900305898,
          -0.10125351463017081,
          0.23180524326742566,
          0.8005236793897881,
          0.29017281584454435,
          -0.12107305336828778,
          0.08212266577020405,
          0.4571612029479931,
          -0.13245363584221143,
          -0.19260535791843963,
          0.001478826602649732,
          -0.10074906310203914,
          0.21415848613547145,
          0.279498384896731,
          0.14413422879637458,
          0.02747835462348567,
          -0.09507827517542011,
          0.008987254492448036,
          0.03590113669852288,
          0.047738930545529815,
          -0.1840382798456396,
          0.06560229606436155,
          0.13652515214300304,
          -0.23455926070272412,
          0.05303895143587211,
          -0.019820555339957722,
          -0.09655325588094914,
          -0.010914124425271057,
          0.020222853681829068,
          0.02783812548859868,
          0.39133854131432727,
          -0.2270118771094674,
          -0.33327020766137805,
          -0.1804345055344629,
          -0.0006953970354060351,
          -0.23877319564653524,
          -0.2734544950396826,
          0.14452666696026398,
          -0.5818479578549252,
          0.09811446257298571,
          -0.10682213782571943,
          -0.08880598142788626,
          -0.28478668920949496,
          -0.17420098588138458,
          0.29759838267174005,
          0.46314539450059594,
          0.3402780827373189,
          -0.1525830514309343,
          0.1418396187006664,
          0.3055489120240299,
          0.34738218340135146,
          0.3166164203468072,
          -0.41682568267758374,
          -0.22432188082992055,
          0.1345697171939726,
          -0.14616455188981434,
          -0.14165890427651093,
          -0.19364643705973622,
          0.5011599775659284,
          0.5096362991175606,
          -0.39746506016477207,
          0.14734257996874944,
          -0.11136578004037762,
          0.04731902138163786,
          0.0781735457091711,
          -0.1375509599100222,
          0.39247568652996645,
          0.06928299982808518,
          0.4425698269145307,
          0.5458941255463965,
          0.415673047318672,
          0.22504397071753632,
          0.10916223692955293,
          0.2434059384255274,
          -0.5530365390345228,
          -0.009832144630545122,
          0.008883232848011905,
          0.2541879156634842,
          -0.1122750844648544,
          -0.09238924939432552,
          -0.20374075439647818,
          -0.16323582871500847,
          0.2076660918542871,
          0.03008320361881076,
          0.23936214714046838,
          -0.2137413096835286,
          -0.3788980144688096,
          0.10992172895918641,
          -0.08313548580531498,
          0.018379926782764767,
          -0.2923180128519013,
          0.3690703881066827,
          0.45662436984092436,
          0.1036806631653649,
          -0.13164886727196856,
          -0.26578664061904916,
          -0.05357413554239218,
          0.1643366858223478,
          -0.31645923030215406,
          0.17247284843947666,
          -0.07856821957231405,
          0.13033096199210975,
          0.3143474540217675,
          0.030570340850534145,
          -0.138916187036758,
          -0.31497225209978436,
          -0.3637864760620884,
          -0.0967772105185505,
          0.595882443689573,
          0.3638957878929011,
          -0.12683670038819125,
          0.35459754972849805,
          0.49773328898317737,
          -0.09762102165646874,
          0.5467317033353675,
          -0.2900133138536333,
          -0.6163803093334523,
          -0.4767411278112096,
          0.041965919506290944,
          -0.49568008889658405,
          -0.043250982141030354,
          0.32167946698712774,
          0.5947081553110213,
          -0.10945303674817612,
          0.20397133187383837,
          -0.012869912274180816,
          0.2535428726437761,
          0.04723268255016056,
          -0.004816855642731274,
          -0.10589106201638933,
          0.6550167435567712,
          0.03257441053758272,
          -0.4730360609789598,
          0.05722444856138592,
          -0.07536459576639096,
          0.24308933991450618,
          0.3967795093513079,
          -0.05489236106977562,
          0.14804935837930702,
          -0.16479865143344066,
          -0.12008061358011674,
          -0.11236796643267101,
          -0.027868947879961668,
          -0.31281028846144343,
          -0.22500840888246232,
          -0.005139446331761736,
          -0.12339695147937754,
          -0.2170943249663836,
          0.34233459447792547,
          0.1560402643445144,
          -0.28540278907643646,
          -0.30240529032985475,
          0.10478942058380124,
          0.06217245883647641,
          0.13302038219901008,
          0.04314765324338817,
          -0.0024976587980626544,
          -0.07307400539089445,
          -0.04333656910486074,
          -0.23604139423539966,
          -0.3951899551222922,
          -0.05358506202201065,
          0.10952927944781599,
          -0.20891123234727066,
          -0.16272591526387292,
          -0.18133497618047853,
          0.23418398821463945,
          0.1667196064185688,
          0.13565594289734778,
          -0.4161833694678639,
          -0.3568540705931629,
          -0.3386541484128164,
          0.02032425110495384,
          -0.17000454751302224,
          0.4416266074987485,
          -0.20537186903920712,
          -0.1409143595013992,
          -0.030641039800262466,
          0.5138183246481666,
          -0.060261738680568,
          0.07922642438611856,
          0.14633655720982802,
          -0.10825746294173798,
          0.19320115956144834,
          -0.15896641825597954,
          -0.09976288996645485,
          -0.3901453897358468,
          0.04805167756115054,
          0.022689481345305358,
          0.6269425339084871,
          0.47793479448676046,
          0.2506610949298847,
          -0.13865003770673848,
          0.18321952922900642,
          -0.19431834341839804,
          -0.10991622566342202,
          -0.4033251007623722,
          0.3609545116883709,
          0.05816185482838411,
          0.011009229547387828,
          -0.05018361416242389,
          0.18125824144038316,
          0.11379933151315429,
          0.12885928903484137,
          -0.38313929612180747,
          0.013696678737190576,
          -0.1969489422121008,
          -0.17011174865991702,
          -0.09683164657209956,
          -0.2701277101216758,
          -0.27318565170123166,
          -0.1458472929714028,
          0.16499137025540625,
          -0.1824121939952646,
          -0.13900104121120962,
          -0.3100574416372258,
          0.08179892845900447,
          0.08534130435626244,
          -0.10293709783660113,
          -0.1858443945129351,
          -0.14166612186501465,
          0.5042944359627817,
          0.028785518782212353,
          0.11971419519975181,
          0.34639870433755376,
          0.06271331731776429,
          0.08201753373511356,
          -0.6606454567172587,
          0.16355164608090467,
          -0.19135897988479297,
          0.261567594786408,
          0.15477130774872086,
          -0.08224463810267353,
          0.0455634919700047,
          -0.3919755976464838,
          -0.3544488194188682,
          0.07278867918095028,
          -0.22893034858393324,
          0.21702270851989258,
          -0.20678914137710552,
          0.02957313842418315,
          -0.09925480278639195,
          0.2910259333421128,
          -0.4475093427770714,
          -0.08387955780908356,
          -0.40016119386497967,
          -0.05795825484235734,
          -0.03067452482269991,
          -0.23569335809607328,
          0.00945681712819487,
          -0.14990973071184055,
          -0.1899869454238097,
          0.24408231923572005,
          -0.27927681106863866,
          0.10944364681222479,
          0.3362430611821469,
          -0.054482329975739346,
          0.2969889908214111,
          0.28071841141466125,
          0.671159543804127,
          0.22335564842620176,
          0.0161416328448968,
          -0.08752878969484713,
          0.099948330824087,
          0.29637596829623736,
          -0.5301080450866805,
          0.4132539250457757,
          0.2777480923727273,
          -0.020641710809059723,
          -0.46298133040416534,
          -0.0932517356699424,
          -0.03886214634789795,
          -0.1083572301813949,
          0.055793140054437494,
          -0.3547939716095314,
          -0.3965638291126359,
          0.11020995180686526,
          0.4447416029074446,
          -0.002980031712070958,
          -0.3380867699158563,
          0.06988541082276042,
          0.3323307252498116,
          -0.38399428845823663,
          0.2100524418003994,
          0.030772888538091146
         ],
         "yaxis": "y"
        }
       ],
       "layout": {
        "hovermode": "closest",
        "legend": {
         "tracegroupgap": 0
        },
        "template": {
         "data": {
          "bar": [
           {
            "error_x": {
             "color": "#2a3f5f"
            },
            "error_y": {
             "color": "#2a3f5f"
            },
            "marker": {
             "line": {
              "color": "#E5ECF6",
              "width": 0.5
             },
             "pattern": {
              "fillmode": "overlay",
              "size": 10,
              "solidity": 0.2
             }
            },
            "type": "bar"
           }
          ],
          "barpolar": [
           {
            "marker": {
             "line": {
              "color": "#E5ECF6",
              "width": 0.5
             },
             "pattern": {
              "fillmode": "overlay",
              "size": 10,
              "solidity": 0.2
             }
            },
            "type": "barpolar"
           }
          ],
          "carpet": [
           {
            "aaxis": {
             "endlinecolor": "#2a3f5f",
             "gridcolor": "white",
             "linecolor": "white",
             "minorgridcolor": "white",
             "startlinecolor": "#2a3f5f"
            },
            "baxis": {
             "endlinecolor": "#2a3f5f",
             "gridcolor": "white",
             "linecolor": "white",
             "minorgridcolor": "white",
             "startlinecolor": "#2a3f5f"
            },
            "type": "carpet"
           }
          ],
          "choropleth": [
           {
            "colorbar": {
             "outlinewidth": 0,
             "ticks": ""
            },
            "type": "choropleth"
           }
          ],
          "contour": [
           {
            "colorbar": {
             "outlinewidth": 0,
             "ticks": ""
            },
            "colorscale": [
             [
              0,
              "#0d0887"
             ],
             [
              0.1111111111111111,
              "#46039f"
             ],
             [
              0.2222222222222222,
              "#7201a8"
             ],
             [
              0.3333333333333333,
              "#9c179e"
             ],
             [
              0.4444444444444444,
              "#bd3786"
             ],
             [
              0.5555555555555556,
              "#d8576b"
             ],
             [
              0.6666666666666666,
              "#ed7953"
             ],
             [
              0.7777777777777778,
              "#fb9f3a"
             ],
             [
              0.8888888888888888,
              "#fdca26"
             ],
             [
              1,
              "#f0f921"
             ]
            ],
            "type": "contour"
           }
          ],
          "contourcarpet": [
           {
            "colorbar": {
             "outlinewidth": 0,
             "ticks": ""
            },
            "type": "contourcarpet"
           }
          ],
          "heatmap": [
           {
            "colorbar": {
             "outlinewidth": 0,
             "ticks": ""
            },
            "colorscale": [
             [
              0,
              "#0d0887"
             ],
             [
              0.1111111111111111,
              "#46039f"
             ],
             [
              0.2222222222222222,
              "#7201a8"
             ],
             [
              0.3333333333333333,
              "#9c179e"
             ],
             [
              0.4444444444444444,
              "#bd3786"
             ],
             [
              0.5555555555555556,
              "#d8576b"
             ],
             [
              0.6666666666666666,
              "#ed7953"
             ],
             [
              0.7777777777777778,
              "#fb9f3a"
             ],
             [
              0.8888888888888888,
              "#fdca26"
             ],
             [
              1,
              "#f0f921"
             ]
            ],
            "type": "heatmap"
           }
          ],
          "heatmapgl": [
           {
            "colorbar": {
             "outlinewidth": 0,
             "ticks": ""
            },
            "colorscale": [
             [
              0,
              "#0d0887"
             ],
             [
              0.1111111111111111,
              "#46039f"
             ],
             [
              0.2222222222222222,
              "#7201a8"
             ],
             [
              0.3333333333333333,
              "#9c179e"
             ],
             [
              0.4444444444444444,
              "#bd3786"
             ],
             [
              0.5555555555555556,
              "#d8576b"
             ],
             [
              0.6666666666666666,
              "#ed7953"
             ],
             [
              0.7777777777777778,
              "#fb9f3a"
             ],
             [
              0.8888888888888888,
              "#fdca26"
             ],
             [
              1,
              "#f0f921"
             ]
            ],
            "type": "heatmapgl"
           }
          ],
          "histogram": [
           {
            "marker": {
             "pattern": {
              "fillmode": "overlay",
              "size": 10,
              "solidity": 0.2
             }
            },
            "type": "histogram"
           }
          ],
          "histogram2d": [
           {
            "colorbar": {
             "outlinewidth": 0,
             "ticks": ""
            },
            "colorscale": [
             [
              0,
              "#0d0887"
             ],
             [
              0.1111111111111111,
              "#46039f"
             ],
             [
              0.2222222222222222,
              "#7201a8"
             ],
             [
              0.3333333333333333,
              "#9c179e"
             ],
             [
              0.4444444444444444,
              "#bd3786"
             ],
             [
              0.5555555555555556,
              "#d8576b"
             ],
             [
              0.6666666666666666,
              "#ed7953"
             ],
             [
              0.7777777777777778,
              "#fb9f3a"
             ],
             [
              0.8888888888888888,
              "#fdca26"
             ],
             [
              1,
              "#f0f921"
             ]
            ],
            "type": "histogram2d"
           }
          ],
          "histogram2dcontour": [
           {
            "colorbar": {
             "outlinewidth": 0,
             "ticks": ""
            },
            "colorscale": [
             [
              0,
              "#0d0887"
             ],
             [
              0.1111111111111111,
              "#46039f"
             ],
             [
              0.2222222222222222,
              "#7201a8"
             ],
             [
              0.3333333333333333,
              "#9c179e"
             ],
             [
              0.4444444444444444,
              "#bd3786"
             ],
             [
              0.5555555555555556,
              "#d8576b"
             ],
             [
              0.6666666666666666,
              "#ed7953"
             ],
             [
              0.7777777777777778,
              "#fb9f3a"
             ],
             [
              0.8888888888888888,
              "#fdca26"
             ],
             [
              1,
              "#f0f921"
             ]
            ],
            "type": "histogram2dcontour"
           }
          ],
          "mesh3d": [
           {
            "colorbar": {
             "outlinewidth": 0,
             "ticks": ""
            },
            "type": "mesh3d"
           }
          ],
          "parcoords": [
           {
            "line": {
             "colorbar": {
              "outlinewidth": 0,
              "ticks": ""
             }
            },
            "type": "parcoords"
           }
          ],
          "pie": [
           {
            "automargin": true,
            "type": "pie"
           }
          ],
          "scatter": [
           {
            "fillpattern": {
             "fillmode": "overlay",
             "size": 10,
             "solidity": 0.2
            },
            "type": "scatter"
           }
          ],
          "scatter3d": [
           {
            "line": {
             "colorbar": {
              "outlinewidth": 0,
              "ticks": ""
             }
            },
            "marker": {
             "colorbar": {
              "outlinewidth": 0,
              "ticks": ""
             }
            },
            "type": "scatter3d"
           }
          ],
          "scattercarpet": [
           {
            "marker": {
             "colorbar": {
              "outlinewidth": 0,
              "ticks": ""
             }
            },
            "type": "scattercarpet"
           }
          ],
          "scattergeo": [
           {
            "marker": {
             "colorbar": {
              "outlinewidth": 0,
              "ticks": ""
             }
            },
            "type": "scattergeo"
           }
          ],
          "scattergl": [
           {
            "marker": {
             "colorbar": {
              "outlinewidth": 0,
              "ticks": ""
             }
            },
            "type": "scattergl"
           }
          ],
          "scattermapbox": [
           {
            "marker": {
             "colorbar": {
              "outlinewidth": 0,
              "ticks": ""
             }
            },
            "type": "scattermapbox"
           }
          ],
          "scatterpolar": [
           {
            "marker": {
             "colorbar": {
              "outlinewidth": 0,
              "ticks": ""
             }
            },
            "type": "scatterpolar"
           }
          ],
          "scatterpolargl": [
           {
            "marker": {
             "colorbar": {
              "outlinewidth": 0,
              "ticks": ""
             }
            },
            "type": "scatterpolargl"
           }
          ],
          "scatterternary": [
           {
            "marker": {
             "colorbar": {
              "outlinewidth": 0,
              "ticks": ""
             }
            },
            "type": "scatterternary"
           }
          ],
          "surface": [
           {
            "colorbar": {
             "outlinewidth": 0,
             "ticks": ""
            },
            "colorscale": [
             [
              0,
              "#0d0887"
             ],
             [
              0.1111111111111111,
              "#46039f"
             ],
             [
              0.2222222222222222,
              "#7201a8"
             ],
             [
              0.3333333333333333,
              "#9c179e"
             ],
             [
              0.4444444444444444,
              "#bd3786"
             ],
             [
              0.5555555555555556,
              "#d8576b"
             ],
             [
              0.6666666666666666,
              "#ed7953"
             ],
             [
              0.7777777777777778,
              "#fb9f3a"
             ],
             [
              0.8888888888888888,
              "#fdca26"
             ],
             [
              1,
              "#f0f921"
             ]
            ],
            "type": "surface"
           }
          ],
          "table": [
           {
            "cells": {
             "fill": {
              "color": "#EBF0F8"
             },
             "line": {
              "color": "white"
             }
            },
            "header": {
             "fill": {
              "color": "#C8D4E3"
             },
             "line": {
              "color": "white"
             }
            },
            "type": "table"
           }
          ]
         },
         "layout": {
          "annotationdefaults": {
           "arrowcolor": "#2a3f5f",
           "arrowhead": 0,
           "arrowwidth": 1
          },
          "autotypenumbers": "strict",
          "coloraxis": {
           "colorbar": {
            "outlinewidth": 0,
            "ticks": ""
           }
          },
          "colorscale": {
           "diverging": [
            [
             0,
             "#8e0152"
            ],
            [
             0.1,
             "#c51b7d"
            ],
            [
             0.2,
             "#de77ae"
            ],
            [
             0.3,
             "#f1b6da"
            ],
            [
             0.4,
             "#fde0ef"
            ],
            [
             0.5,
             "#f7f7f7"
            ],
            [
             0.6,
             "#e6f5d0"
            ],
            [
             0.7,
             "#b8e186"
            ],
            [
             0.8,
             "#7fbc41"
            ],
            [
             0.9,
             "#4d9221"
            ],
            [
             1,
             "#276419"
            ]
           ],
           "sequential": [
            [
             0,
             "#0d0887"
            ],
            [
             0.1111111111111111,
             "#46039f"
            ],
            [
             0.2222222222222222,
             "#7201a8"
            ],
            [
             0.3333333333333333,
             "#9c179e"
            ],
            [
             0.4444444444444444,
             "#bd3786"
            ],
            [
             0.5555555555555556,
             "#d8576b"
            ],
            [
             0.6666666666666666,
             "#ed7953"
            ],
            [
             0.7777777777777778,
             "#fb9f3a"
            ],
            [
             0.8888888888888888,
             "#fdca26"
            ],
            [
             1,
             "#f0f921"
            ]
           ],
           "sequentialminus": [
            [
             0,
             "#0d0887"
            ],
            [
             0.1111111111111111,
             "#46039f"
            ],
            [
             0.2222222222222222,
             "#7201a8"
            ],
            [
             0.3333333333333333,
             "#9c179e"
            ],
            [
             0.4444444444444444,
             "#bd3786"
            ],
            [
             0.5555555555555556,
             "#d8576b"
            ],
            [
             0.6666666666666666,
             "#ed7953"
            ],
            [
             0.7777777777777778,
             "#fb9f3a"
            ],
            [
             0.8888888888888888,
             "#fdca26"
            ],
            [
             1,
             "#f0f921"
            ]
           ]
          },
          "colorway": [
           "#636efa",
           "#EF553B",
           "#00cc96",
           "#ab63fa",
           "#FFA15A",
           "#19d3f3",
           "#FF6692",
           "#B6E880",
           "#FF97FF",
           "#FECB52"
          ],
          "font": {
           "color": "#2a3f5f"
          },
          "geo": {
           "bgcolor": "white",
           "lakecolor": "white",
           "landcolor": "#E5ECF6",
           "showlakes": true,
           "showland": true,
           "subunitcolor": "white"
          },
          "hoverlabel": {
           "align": "left"
          },
          "hovermode": "closest",
          "mapbox": {
           "style": "light"
          },
          "paper_bgcolor": "white",
          "plot_bgcolor": "#E5ECF6",
          "polar": {
           "angularaxis": {
            "gridcolor": "white",
            "linecolor": "white",
            "ticks": ""
           },
           "bgcolor": "#E5ECF6",
           "radialaxis": {
            "gridcolor": "white",
            "linecolor": "white",
            "ticks": ""
           }
          },
          "scene": {
           "xaxis": {
            "backgroundcolor": "#E5ECF6",
            "gridcolor": "white",
            "gridwidth": 2,
            "linecolor": "white",
            "showbackground": true,
            "ticks": "",
            "zerolinecolor": "white"
           },
           "yaxis": {
            "backgroundcolor": "#E5ECF6",
            "gridcolor": "white",
            "gridwidth": 2,
            "linecolor": "white",
            "showbackground": true,
            "ticks": "",
            "zerolinecolor": "white"
           },
           "zaxis": {
            "backgroundcolor": "#E5ECF6",
            "gridcolor": "white",
            "gridwidth": 2,
            "linecolor": "white",
            "showbackground": true,
            "ticks": "",
            "zerolinecolor": "white"
           }
          },
          "shapedefaults": {
           "line": {
            "color": "#2a3f5f"
           }
          },
          "ternary": {
           "aaxis": {
            "gridcolor": "white",
            "linecolor": "white",
            "ticks": ""
           },
           "baxis": {
            "gridcolor": "white",
            "linecolor": "white",
            "ticks": ""
           },
           "bgcolor": "#E5ECF6",
           "caxis": {
            "gridcolor": "white",
            "linecolor": "white",
            "ticks": ""
           }
          },
          "title": {
           "x": 0.05
          },
          "xaxis": {
           "automargin": true,
           "gridcolor": "white",
           "linecolor": "white",
           "ticks": "",
           "title": {
            "standoff": 15
           },
           "zerolinecolor": "white",
           "zerolinewidth": 2
          },
          "yaxis": {
           "automargin": true,
           "gridcolor": "white",
           "linecolor": "white",
           "ticks": "",
           "title": {
            "standoff": 15
           },
           "zerolinecolor": "white",
           "zerolinewidth": 2
          }
         }
        },
        "title": {
         "text": "Interactive Job Titles Map"
        },
        "xaxis": {
         "anchor": "y",
         "domain": [
          0,
          1
         ],
         "title": {
          "text": "Principal Component 1"
         }
        },
        "yaxis": {
         "anchor": "x",
         "domain": [
          0,
          1
         ],
         "title": {
          "text": "Principal Component 2"
         }
        }
       }
      }
     },
     "metadata": {},
     "output_type": "display_data"
    }
   ],
   "source": [
    "import plotly.express as px\n",
    "pcs = ['pc1', 'pc2']\n",
    "\n",
    "fig = px.scatter(jobs_df, x=pcs[0], y=pcs[1], hover_name='Occupations',\n",
    "                 title='Interactive Map of Job Titles',\n",
    "                 labels={pcs[0]: 'Principal Component 1', pcs[1]: 'Principal Component 2'})\n",
    "\n",
    "# Update layout to improve the appearance\n",
    "fig.update_layout(title='Interactive Job Titles Map',\n",
    "                  xaxis_title='Principal Component 1',\n",
    "                  yaxis_title='Principal Component 2',\n",
    "                  hovermode='closest')\n",
    "\n",
    "# Show the plot\n",
    "fig.show()"
   ]
  },
  {
   "cell_type": "code",
   "execution_count": 12,
   "metadata": {},
   "outputs": [
    {
     "data": {
      "text/html": [
       "<div>\n",
       "<style scoped>\n",
       "    .dataframe tbody tr th:only-of-type {\n",
       "        vertical-align: middle;\n",
       "    }\n",
       "\n",
       "    .dataframe tbody tr th {\n",
       "        vertical-align: top;\n",
       "    }\n",
       "\n",
       "    .dataframe thead th {\n",
       "        text-align: right;\n",
       "    }\n",
       "</style>\n",
       "<table border=\"1\" class=\"dataframe\">\n",
       "  <thead>\n",
       "    <tr style=\"text-align: right;\">\n",
       "      <th></th>\n",
       "      <th>Top 20 Descending PC1</th>\n",
       "      <th>PC1_desc</th>\n",
       "      <th>Top 20 Ascending PC1</th>\n",
       "      <th>PC1_asc</th>\n",
       "      <th>Top 20 Descending PC2</th>\n",
       "      <th>PC2_desc</th>\n",
       "      <th>Top 20 Ascending PC2</th>\n",
       "      <th>PC2_asc</th>\n",
       "    </tr>\n",
       "  </thead>\n",
       "  <tbody>\n",
       "    <tr>\n",
       "      <th>0</th>\n",
       "      <td>Orthopaedic</td>\n",
       "      <td>4.222789</td>\n",
       "      <td>Miner</td>\n",
       "      <td>-0.938913</td>\n",
       "      <td>Chambermaid</td>\n",
       "      <td>0.800524</td>\n",
       "      <td>Showman</td>\n",
       "      <td>-0.660645</td>\n",
       "    </tr>\n",
       "    <tr>\n",
       "      <th>1</th>\n",
       "      <td>Physiotherapist</td>\n",
       "      <td>3.695267</td>\n",
       "      <td>Proprietor</td>\n",
       "      <td>-0.897602</td>\n",
       "      <td>Thatcher</td>\n",
       "      <td>0.671160</td>\n",
       "      <td>Merchandiser</td>\n",
       "      <td>-0.616380</td>\n",
       "    </tr>\n",
       "    <tr>\n",
       "      <th>2</th>\n",
       "      <td>Paediatrician</td>\n",
       "      <td>2.994359</td>\n",
       "      <td>Regulator</td>\n",
       "      <td>-0.880869</td>\n",
       "      <td>Nanny</td>\n",
       "      <td>0.655017</td>\n",
       "      <td>Footballer</td>\n",
       "      <td>-0.581848</td>\n",
       "    </tr>\n",
       "    <tr>\n",
       "      <th>3</th>\n",
       "      <td>Hypnotherapist</td>\n",
       "      <td>2.706143</td>\n",
       "      <td>Chartered</td>\n",
       "      <td>-0.873734</td>\n",
       "      <td>Psychoanalyst</td>\n",
       "      <td>0.626943</td>\n",
       "      <td>Importer</td>\n",
       "      <td>-0.553037</td>\n",
       "    </tr>\n",
       "    <tr>\n",
       "      <th>4</th>\n",
       "      <td>Anaesthetist</td>\n",
       "      <td>2.542445</td>\n",
       "      <td>Shepherd</td>\n",
       "      <td>-0.869951</td>\n",
       "      <td>Maid</td>\n",
       "      <td>0.595882</td>\n",
       "      <td>Treasurer</td>\n",
       "      <td>-0.530108</td>\n",
       "    </tr>\n",
       "    <tr>\n",
       "      <th>5</th>\n",
       "      <td>Palaeontologist</td>\n",
       "      <td>2.214234</td>\n",
       "      <td>Operations</td>\n",
       "      <td>-0.867494</td>\n",
       "      <td>Midwife</td>\n",
       "      <td>0.594708</td>\n",
       "      <td>Balloonist</td>\n",
       "      <td>-0.521696</td>\n",
       "    </tr>\n",
       "    <tr>\n",
       "      <th>6</th>\n",
       "      <td>Paramedic</td>\n",
       "      <td>2.209218</td>\n",
       "      <td>Doctor</td>\n",
       "      <td>-0.830720</td>\n",
       "      <td>Matron</td>\n",
       "      <td>0.546732</td>\n",
       "      <td>Metallurgist</td>\n",
       "      <td>-0.495680</td>\n",
       "    </tr>\n",
       "    <tr>\n",
       "      <th>7</th>\n",
       "      <td>Psychotherapist</td>\n",
       "      <td>2.204556</td>\n",
       "      <td>Dealer</td>\n",
       "      <td>-0.820622</td>\n",
       "      <td>Housewife</td>\n",
       "      <td>0.545894</td>\n",
       "      <td>Merchant</td>\n",
       "      <td>-0.476741</td>\n",
       "    </tr>\n",
       "    <tr>\n",
       "      <th>8</th>\n",
       "      <td>Restaurateur</td>\n",
       "      <td>2.192577</td>\n",
       "      <td>Employee</td>\n",
       "      <td>-0.820273</td>\n",
       "      <td>Potter</td>\n",
       "      <td>0.513818</td>\n",
       "      <td>Negotiator</td>\n",
       "      <td>-0.473036</td>\n",
       "    </tr>\n",
       "    <tr>\n",
       "      <th>9</th>\n",
       "      <td>Osteopath</td>\n",
       "      <td>2.053368</td>\n",
       "      <td>Attendant</td>\n",
       "      <td>-0.817364</td>\n",
       "      <td>Hairdresser</td>\n",
       "      <td>0.509636</td>\n",
       "      <td>Undertaker</td>\n",
       "      <td>-0.462981</td>\n",
       "    </tr>\n",
       "  </tbody>\n",
       "</table>\n",
       "</div>"
      ],
      "text/plain": [
       "  Top 20 Descending PC1  PC1_desc Top 20 Ascending PC1   PC1_asc  \\\n",
       "0           Orthopaedic  4.222789                Miner -0.938913   \n",
       "1       Physiotherapist  3.695267           Proprietor -0.897602   \n",
       "2         Paediatrician  2.994359            Regulator -0.880869   \n",
       "3        Hypnotherapist  2.706143            Chartered -0.873734   \n",
       "4          Anaesthetist  2.542445             Shepherd -0.869951   \n",
       "5       Palaeontologist  2.214234           Operations -0.867494   \n",
       "6             Paramedic  2.209218               Doctor -0.830720   \n",
       "7       Psychotherapist  2.204556               Dealer -0.820622   \n",
       "8          Restaurateur  2.192577             Employee -0.820273   \n",
       "9             Osteopath  2.053368            Attendant -0.817364   \n",
       "\n",
       "  Top 20 Descending PC2  PC2_desc Top 20 Ascending PC2   PC2_asc  \n",
       "0           Chambermaid  0.800524              Showman -0.660645  \n",
       "1              Thatcher  0.671160         Merchandiser -0.616380  \n",
       "2                 Nanny  0.655017           Footballer -0.581848  \n",
       "3         Psychoanalyst  0.626943             Importer -0.553037  \n",
       "4                  Maid  0.595882            Treasurer -0.530108  \n",
       "5               Midwife  0.594708           Balloonist -0.521696  \n",
       "6                Matron  0.546732         Metallurgist -0.495680  \n",
       "7             Housewife  0.545894             Merchant -0.476741  \n",
       "8                Potter  0.513818           Negotiator -0.473036  \n",
       "9           Hairdresser  0.509636           Undertaker -0.462981  "
      ]
     },
     "execution_count": 12,
     "metadata": {},
     "output_type": "execute_result"
    }
   ],
   "source": [
    "n = 10\n",
    "\n",
    "top_n_desc_pc1 = jobs_df.nlargest(n, pcs[0]).Occupations.values\n",
    "top_n_asc_pc1 = jobs_df.nsmallest(n, pcs[0]).Occupations.values\n",
    "top_n_desc_pc2 = jobs_df.nlargest(n, pcs[1]).Occupations.values\n",
    "top_n_asc_pc2 = jobs_df.nsmallest(n, pcs[1]).Occupations.values\n",
    "\n",
    "top_n_desc_pc1_values = jobs_df.nlargest(n, pcs[0])[f'{pcs[0]}'].values\n",
    "top_n_asc_pc1_values = jobs_df.nsmallest(n, pcs[0])[f'{pcs[0]}'].values\n",
    "top_n_desc_pc2_values = jobs_df.nlargest(n, pcs[1])[f'{pcs[1]}'].values\n",
    "top_n_asc_pc2_values = jobs_df.nsmallest(n, pcs[1])[f'{pcs[1]}'].values\n",
    "\n",
    "table = pd.DataFrame({\n",
    "    'Top 20 Descending PC1': top_n_desc_pc1,\n",
    "    'PC1_desc': top_n_desc_pc1_values,\n",
    "    'Top 20 Ascending PC1': top_n_asc_pc1,\n",
    "    'PC1_asc': top_n_asc_pc1_values,\n",
    "    'Top 20 Descending PC2': top_n_desc_pc2,\n",
    "    'PC2_desc': top_n_desc_pc2_values,\n",
    "    'Top 20 Ascending PC2': top_n_asc_pc2,\n",
    "    'PC2_asc': top_n_asc_pc2_values\n",
    "})\n",
    "\n",
    "table"
   ]
  },
  {
   "cell_type": "code",
   "execution_count": null,
   "metadata": {},
   "outputs": [],
   "source": []
  }
 ],
 "metadata": {
  "kernelspec": {
   "display_name": "gender_bias",
   "language": "python",
   "name": "python3"
  },
  "language_info": {
   "codemirror_mode": {
    "name": "ipython",
    "version": 3
   },
   "file_extension": ".py",
   "mimetype": "text/x-python",
   "name": "python",
   "nbconvert_exporter": "python",
   "pygments_lexer": "ipython3",
   "version": "3.8.19"
  }
 },
 "nbformat": 4,
 "nbformat_minor": 2
}
