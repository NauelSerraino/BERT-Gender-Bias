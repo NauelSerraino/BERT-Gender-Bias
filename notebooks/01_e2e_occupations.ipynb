{
 "cells": [
  {
   "cell_type": "code",
   "execution_count": 8,
   "metadata": {},
   "outputs": [],
   "source": [
    "import os\n",
    "import pandas as pd\n",
    "import numpy as np\n",
    "from transformers import BertTokenizer\n",
    "import torch\n",
    "\n",
    "import sys\n",
    "sys.path.append('/home/nauel/bert_gender_bias')\n",
    "import warnings\n",
    "warnings.filterwarnings(\"ignore\")\n",
    "\n",
    "\n",
    "from pipelines.utils.paths import EXTERNAL_DATA_DIR, INTERIM_DATA_DIR"
   ]
  },
  {
   "cell_type": "code",
   "execution_count": 18,
   "metadata": {},
   "outputs": [],
   "source": [
    "gendered_words = pd.read_pickle(os.path.join(INTERIM_DATA_DIR, 'gender_binary_words_TOKEN.pkl'))\n",
    "jobs_df = pd.read_pickle(os.path.join(INTERIM_DATA_DIR, 'occupations_TOKEN.pkl'))"
   ]
  },
  {
   "cell_type": "code",
   "execution_count": 164,
   "metadata": {},
   "outputs": [
    {
     "name": "stdout",
     "output_type": "stream",
     "text": [
      "(431, 6)\n"
     ]
    },
    {
     "data": {
      "text/html": [
       "<div>\n",
       "<style scoped>\n",
       "    .dataframe tbody tr th:only-of-type {\n",
       "        vertical-align: middle;\n",
       "    }\n",
       "\n",
       "    .dataframe tbody tr th {\n",
       "        vertical-align: top;\n",
       "    }\n",
       "\n",
       "    .dataframe thead th {\n",
       "        text-align: right;\n",
       "    }\n",
       "</style>\n",
       "<table border=\"1\" class=\"dataframe\">\n",
       "  <thead>\n",
       "    <tr style=\"text-align: right;\">\n",
       "      <th></th>\n",
       "      <th>word</th>\n",
       "      <th>gender_binary</th>\n",
       "      <th>bert_token</th>\n",
       "      <th>word2vec_token</th>\n",
       "      <th>word_count</th>\n",
       "      <th>shape</th>\n",
       "    </tr>\n",
       "  </thead>\n",
       "  <tbody>\n",
       "    <tr>\n",
       "      <th>0</th>\n",
       "      <td>abbot</td>\n",
       "      <td>0</td>\n",
       "      <td>[-0.39571184, -0.093838364, 0.06868138, 0.1723...</td>\n",
       "      <td>[0.40039062, 0.41015625, 0.36523438, 0.2207031...</td>\n",
       "      <td>1</td>\n",
       "      <td>300</td>\n",
       "    </tr>\n",
       "    <tr>\n",
       "      <th>1</th>\n",
       "      <td>abbots</td>\n",
       "      <td>0</td>\n",
       "      <td>[-0.18790531, -0.077521764, -0.3876859, 0.1816...</td>\n",
       "      <td>[0.30664062, 0.33398438, 0.1953125, 0.50390625...</td>\n",
       "      <td>1</td>\n",
       "      <td>300</td>\n",
       "    </tr>\n",
       "    <tr>\n",
       "      <th>2</th>\n",
       "      <td>adulterer</td>\n",
       "      <td>0</td>\n",
       "      <td>[-0.45352724, -0.38397712, -0.25277817, -0.266...</td>\n",
       "      <td>[0.42773438, -0.28515625, -0.0625, 0.020263672...</td>\n",
       "      <td>1</td>\n",
       "      <td>300</td>\n",
       "    </tr>\n",
       "    <tr>\n",
       "      <th>3</th>\n",
       "      <td>adulterers</td>\n",
       "      <td>0</td>\n",
       "      <td>[-0.17249976, -0.15101261, -0.3717648, -0.0279...</td>\n",
       "      <td>[-0.14160156, -0.22558594, -0.042236328, 0.208...</td>\n",
       "      <td>1</td>\n",
       "      <td>300</td>\n",
       "    </tr>\n",
       "    <tr>\n",
       "      <th>4</th>\n",
       "      <td>airman</td>\n",
       "      <td>0</td>\n",
       "      <td>[-0.20044291, -0.020562049, -0.276353, -0.0372...</td>\n",
       "      <td>[0.49023438, -0.15917969, -0.022460938, -0.024...</td>\n",
       "      <td>1</td>\n",
       "      <td>300</td>\n",
       "    </tr>\n",
       "    <tr>\n",
       "      <th>...</th>\n",
       "      <td>...</td>\n",
       "      <td>...</td>\n",
       "      <td>...</td>\n",
       "      <td>...</td>\n",
       "      <td>...</td>\n",
       "      <td>...</td>\n",
       "    </tr>\n",
       "    <tr>\n",
       "      <th>510</th>\n",
       "      <td>woman</td>\n",
       "      <td>1</td>\n",
       "      <td>[-0.34769166, -0.20875905, 0.12518345, 0.07620...</td>\n",
       "      <td>[0.24316406, -0.07714844, -0.103027344, -0.107...</td>\n",
       "      <td>1</td>\n",
       "      <td>300</td>\n",
       "    </tr>\n",
       "    <tr>\n",
       "      <th>511</th>\n",
       "      <td>womankind</td>\n",
       "      <td>1</td>\n",
       "      <td>[-0.24836135, -0.283562, -0.19828826, 0.071805...</td>\n",
       "      <td>[-0.096191406, -0.055908203, 0.014404297, 0.22...</td>\n",
       "      <td>1</td>\n",
       "      <td>300</td>\n",
       "    </tr>\n",
       "    <tr>\n",
       "      <th>512</th>\n",
       "      <td>womanly</td>\n",
       "      <td>1</td>\n",
       "      <td>[-0.3582225, -0.31381592, -0.16148914, 0.21661...</td>\n",
       "      <td>[0.01965332, -0.059570312, 0.119628906, 0.1474...</td>\n",
       "      <td>1</td>\n",
       "      <td>300</td>\n",
       "    </tr>\n",
       "    <tr>\n",
       "      <th>513</th>\n",
       "      <td>womanpower</td>\n",
       "      <td>1</td>\n",
       "      <td>[-0.042981803, -0.32953677, 0.07738724, 0.1452...</td>\n",
       "      <td>[-0.0041503906, -0.06225586, 0.044921875, 0.13...</td>\n",
       "      <td>1</td>\n",
       "      <td>300</td>\n",
       "    </tr>\n",
       "    <tr>\n",
       "      <th>514</th>\n",
       "      <td>women</td>\n",
       "      <td>1</td>\n",
       "      <td>[-0.21454988, 0.2556039, -0.08680056, 0.171355...</td>\n",
       "      <td>[-0.13964844, 0.1640625, 0.016113281, 0.107910...</td>\n",
       "      <td>1</td>\n",
       "      <td>300</td>\n",
       "    </tr>\n",
       "  </tbody>\n",
       "</table>\n",
       "<p>431 rows × 6 columns</p>\n",
       "</div>"
      ],
      "text/plain": [
       "           word  gender_binary  \\\n",
       "0         abbot              0   \n",
       "1        abbots              0   \n",
       "2     adulterer              0   \n",
       "3    adulterers              0   \n",
       "4        airman              0   \n",
       "..          ...            ...   \n",
       "510       woman              1   \n",
       "511   womankind              1   \n",
       "512     womanly              1   \n",
       "513  womanpower              1   \n",
       "514       women              1   \n",
       "\n",
       "                                            bert_token  \\\n",
       "0    [-0.39571184, -0.093838364, 0.06868138, 0.1723...   \n",
       "1    [-0.18790531, -0.077521764, -0.3876859, 0.1816...   \n",
       "2    [-0.45352724, -0.38397712, -0.25277817, -0.266...   \n",
       "3    [-0.17249976, -0.15101261, -0.3717648, -0.0279...   \n",
       "4    [-0.20044291, -0.020562049, -0.276353, -0.0372...   \n",
       "..                                                 ...   \n",
       "510  [-0.34769166, -0.20875905, 0.12518345, 0.07620...   \n",
       "511  [-0.24836135, -0.283562, -0.19828826, 0.071805...   \n",
       "512  [-0.3582225, -0.31381592, -0.16148914, 0.21661...   \n",
       "513  [-0.042981803, -0.32953677, 0.07738724, 0.1452...   \n",
       "514  [-0.21454988, 0.2556039, -0.08680056, 0.171355...   \n",
       "\n",
       "                                        word2vec_token  word_count  shape  \n",
       "0    [0.40039062, 0.41015625, 0.36523438, 0.2207031...           1    300  \n",
       "1    [0.30664062, 0.33398438, 0.1953125, 0.50390625...           1    300  \n",
       "2    [0.42773438, -0.28515625, -0.0625, 0.020263672...           1    300  \n",
       "3    [-0.14160156, -0.22558594, -0.042236328, 0.208...           1    300  \n",
       "4    [0.49023438, -0.15917969, -0.022460938, -0.024...           1    300  \n",
       "..                                                 ...         ...    ...  \n",
       "510  [0.24316406, -0.07714844, -0.103027344, -0.107...           1    300  \n",
       "511  [-0.096191406, -0.055908203, 0.014404297, 0.22...           1    300  \n",
       "512  [0.01965332, -0.059570312, 0.119628906, 0.1474...           1    300  \n",
       "513  [-0.0041503906, -0.06225586, 0.044921875, 0.13...           1    300  \n",
       "514  [-0.13964844, 0.1640625, 0.016113281, 0.107910...           1    300  \n",
       "\n",
       "[431 rows x 6 columns]"
      ]
     },
     "execution_count": 164,
     "metadata": {},
     "output_type": "execute_result"
    }
   ],
   "source": [
    "gendered_words.dropna(inplace=True)\n",
    "print(gendered_words.shape)\n",
    "gendered_words.head(1000)"
   ]
  },
  {
   "cell_type": "code",
   "execution_count": 135,
   "metadata": {},
   "outputs": [
    {
     "name": "stdout",
     "output_type": "stream",
     "text": [
      "(340, 4)\n"
     ]
    },
    {
     "data": {
      "text/html": [
       "<div>\n",
       "<style scoped>\n",
       "    .dataframe tbody tr th:only-of-type {\n",
       "        vertical-align: middle;\n",
       "    }\n",
       "\n",
       "    .dataframe tbody tr th {\n",
       "        vertical-align: top;\n",
       "    }\n",
       "\n",
       "    .dataframe thead th {\n",
       "        text-align: right;\n",
       "    }\n",
       "</style>\n",
       "<table border=\"1\" class=\"dataframe\">\n",
       "  <thead>\n",
       "    <tr style=\"text-align: right;\">\n",
       "      <th></th>\n",
       "      <th>Occupations</th>\n",
       "      <th>bert_token</th>\n",
       "      <th>word2vec_token</th>\n",
       "      <th>word_count</th>\n",
       "    </tr>\n",
       "  </thead>\n",
       "  <tbody>\n",
       "    <tr>\n",
       "      <th>0</th>\n",
       "      <td>Accountant</td>\n",
       "      <td>[0.044247508, -0.062065974, -0.28353956, 0.019...</td>\n",
       "      <td>[0.059326172, -0.1328125, -0.16796875, -0.1816...</td>\n",
       "      <td>1</td>\n",
       "    </tr>\n",
       "    <tr>\n",
       "      <th>6</th>\n",
       "      <td>Actor</td>\n",
       "      <td>[0.104604356, -0.23240899, -0.5950049, -0.1360...</td>\n",
       "      <td>[0.33789062, -0.028442383, 0.111328125, -0.181...</td>\n",
       "      <td>1</td>\n",
       "    </tr>\n",
       "    <tr>\n",
       "      <th>7</th>\n",
       "      <td>Actress</td>\n",
       "      <td>[0.044713546, -0.2707646, -0.26443234, -0.0969...</td>\n",
       "      <td>[0.24023438, -0.20214844, 0.16894531, -0.20410...</td>\n",
       "      <td>1</td>\n",
       "    </tr>\n",
       "    <tr>\n",
       "      <th>8</th>\n",
       "      <td>Actuary</td>\n",
       "      <td>[-0.102212645, -0.09090995, -0.14266734, -0.08...</td>\n",
       "      <td>[0.032714844, -0.41210938, -0.14550781, 0.3691...</td>\n",
       "      <td>1</td>\n",
       "    </tr>\n",
       "    <tr>\n",
       "      <th>9</th>\n",
       "      <td>Acupuncturist</td>\n",
       "      <td>[0.05669831, -0.22730672, -0.20539528, -0.2271...</td>\n",
       "      <td>[0.16894531, -0.29296875, 0.007507324, -0.1503...</td>\n",
       "      <td>1</td>\n",
       "    </tr>\n",
       "  </tbody>\n",
       "</table>\n",
       "</div>"
      ],
      "text/plain": [
       "     Occupations                                         bert_token  \\\n",
       "0     Accountant  [0.044247508, -0.062065974, -0.28353956, 0.019...   \n",
       "6          Actor  [0.104604356, -0.23240899, -0.5950049, -0.1360...   \n",
       "7        Actress  [0.044713546, -0.2707646, -0.26443234, -0.0969...   \n",
       "8        Actuary  [-0.102212645, -0.09090995, -0.14266734, -0.08...   \n",
       "9  Acupuncturist  [0.05669831, -0.22730672, -0.20539528, -0.2271...   \n",
       "\n",
       "                                      word2vec_token  word_count  \n",
       "0  [0.059326172, -0.1328125, -0.16796875, -0.1816...           1  \n",
       "6  [0.33789062, -0.028442383, 0.111328125, -0.181...           1  \n",
       "7  [0.24023438, -0.20214844, 0.16894531, -0.20410...           1  \n",
       "8  [0.032714844, -0.41210938, -0.14550781, 0.3691...           1  \n",
       "9  [0.16894531, -0.29296875, 0.007507324, -0.1503...           1  "
      ]
     },
     "execution_count": 135,
     "metadata": {},
     "output_type": "execute_result"
    }
   ],
   "source": [
    "jobs_df.dropna(inplace=True)\n",
    "print(jobs_df.shape)\n",
    "jobs_df.head()"
   ]
  },
  {
   "cell_type": "code",
   "execution_count": 216,
   "metadata": {},
   "outputs": [
    {
     "name": "stdout",
     "output_type": "stream",
     "text": [
      "word2vec_token\n",
      "Accuracy:  0.9976798143851509\n",
      "bert_token\n",
      "Accuracy:  0.9976798143851509\n"
     ]
    }
   ],
   "source": [
    "token_cols = ['word2vec_token','bert_token', ]\n",
    "\n",
    "import sklearn\n",
    "\n",
    "from sklearn import preprocessing\n",
    "from sklearn.svm import LinearSVC\n",
    "from sklearn.pipeline import make_pipeline\n",
    "from sklearn.preprocessing import StandardScaler\n",
    "\n",
    "for token_col in token_cols:\n",
    "    print(token_col)\n",
    "    \n",
    "    X = gendered_words[token_col].values.tolist()\n",
    "    y = np.array(gendered_words.gender_binary.tolist())\n",
    "    clf = make_pipeline(StandardScaler(),\n",
    "                        LinearSVC(random_state=0, tol=1e-5))\n",
    "    clf.fit(X, y)\n",
    "\n",
    "    print(\"Accuracy: \", clf.score(X, y))\n",
    "    "
   ]
  },
  {
   "cell_type": "code",
   "execution_count": 224,
   "metadata": {},
   "outputs": [
    {
     "name": "stdout",
     "output_type": "stream",
     "text": [
      "word2vec_token\n",
      "Accuracy:  0.877030162412993\n",
      "Number of non-zero coefficients:  8\n",
      "Number of zero coefficients:  292\n",
      "Number of coefficients:  300\n",
      "bert_token\n",
      "Accuracy:  0.8074245939675174\n",
      "Number of non-zero coefficients:  11\n",
      "Number of zero coefficients:  757\n",
      "Number of coefficients:  768\n"
     ]
    }
   ],
   "source": [
    "from sklearn.linear_model import LogisticRegression\n",
    "\n",
    "import matplotlib.pyplot as plt\n",
    "\n",
    "# Fit logistic regression with L1 regularization\n",
    "for token_col in token_cols:\n",
    "    print(token_col)\n",
    "    \n",
    "    X = gendered_words[token_col].values.tolist()\n",
    "    y = np.array(gendered_words.gender_binary.tolist())\n",
    "    logit = LogisticRegression(solver=\"liblinear\", penalty=\"l1\", C=0.1)\n",
    "    logit.fit(X, y)\n",
    "    print(\"Accuracy: \", logit.score(X, y))\n",
    "    print(\"Number of non-zero coefficients: \", np.sum(logit.coef_ != 0))\n",
    "    print(\"Number of zero coefficients: \", np.sum(logit.coef_ == 0))\n",
    "    print(\"Number of coefficients: \", len(logit.coef_[0]))"
   ]
  },
  {
   "cell_type": "code",
   "execution_count": 225,
   "metadata": {},
   "outputs": [
    {
     "data": {
      "text/html": [
       "<div>\n",
       "<style scoped>\n",
       "    .dataframe tbody tr th:only-of-type {\n",
       "        vertical-align: middle;\n",
       "    }\n",
       "\n",
       "    .dataframe tbody tr th {\n",
       "        vertical-align: top;\n",
       "    }\n",
       "\n",
       "    .dataframe thead th {\n",
       "        text-align: right;\n",
       "    }\n",
       "</style>\n",
       "<table border=\"1\" class=\"dataframe\">\n",
       "  <thead>\n",
       "    <tr style=\"text-align: right;\">\n",
       "      <th></th>\n",
       "      <th>feature</th>\n",
       "      <th>coefficient</th>\n",
       "      <th>absolute_coefficient</th>\n",
       "    </tr>\n",
       "  </thead>\n",
       "  <tbody>\n",
       "    <tr>\n",
       "      <th>52</th>\n",
       "      <td>52</td>\n",
       "      <td>1.106637</td>\n",
       "      <td>1.106637</td>\n",
       "    </tr>\n",
       "    <tr>\n",
       "      <th>1</th>\n",
       "      <td>1</td>\n",
       "      <td>-0.726064</td>\n",
       "      <td>0.726064</td>\n",
       "    </tr>\n",
       "    <tr>\n",
       "      <th>586</th>\n",
       "      <td>586</td>\n",
       "      <td>0.609415</td>\n",
       "      <td>0.609415</td>\n",
       "    </tr>\n",
       "    <tr>\n",
       "      <th>74</th>\n",
       "      <td>74</td>\n",
       "      <td>-0.556892</td>\n",
       "      <td>0.556892</td>\n",
       "    </tr>\n",
       "    <tr>\n",
       "      <th>374</th>\n",
       "      <td>374</td>\n",
       "      <td>-0.436256</td>\n",
       "      <td>0.436256</td>\n",
       "    </tr>\n",
       "    <tr>\n",
       "      <th>668</th>\n",
       "      <td>668</td>\n",
       "      <td>-0.385081</td>\n",
       "      <td>0.385081</td>\n",
       "    </tr>\n",
       "    <tr>\n",
       "      <th>765</th>\n",
       "      <td>765</td>\n",
       "      <td>-0.310593</td>\n",
       "      <td>0.310593</td>\n",
       "    </tr>\n",
       "    <tr>\n",
       "      <th>104</th>\n",
       "      <td>104</td>\n",
       "      <td>-0.271952</td>\n",
       "      <td>0.271952</td>\n",
       "    </tr>\n",
       "    <tr>\n",
       "      <th>394</th>\n",
       "      <td>394</td>\n",
       "      <td>0.053455</td>\n",
       "      <td>0.053455</td>\n",
       "    </tr>\n",
       "    <tr>\n",
       "      <th>14</th>\n",
       "      <td>14</td>\n",
       "      <td>-0.008337</td>\n",
       "      <td>0.008337</td>\n",
       "    </tr>\n",
       "    <tr>\n",
       "      <th>308</th>\n",
       "      <td>308</td>\n",
       "      <td>0.005794</td>\n",
       "      <td>0.005794</td>\n",
       "    </tr>\n",
       "  </tbody>\n",
       "</table>\n",
       "</div>"
      ],
      "text/plain": [
       "     feature  coefficient  absolute_coefficient\n",
       "52        52     1.106637              1.106637\n",
       "1          1    -0.726064              0.726064\n",
       "586      586     0.609415              0.609415\n",
       "74        74    -0.556892              0.556892\n",
       "374      374    -0.436256              0.436256\n",
       "668      668    -0.385081              0.385081\n",
       "765      765    -0.310593              0.310593\n",
       "104      104    -0.271952              0.271952\n",
       "394      394     0.053455              0.053455\n",
       "14        14    -0.008337              0.008337\n",
       "308      308     0.005794              0.005794"
      ]
     },
     "execution_count": 225,
     "metadata": {},
     "output_type": "execute_result"
    }
   ],
   "source": [
    "# Get the coefficients\n",
    "coefficients = logit.coef_[0]\n",
    "coefficients_abs = np.abs(coefficients)\n",
    "\n",
    "logit_coef = pd.DataFrame({'feature': range(len(coefficients)), 'coefficient': coefficients, 'absolute_coefficient': coefficients_abs})\n",
    "logit_coef = logit_coef.sort_values(by='absolute_coefficient', ascending=False)\n",
    "logit_coef = logit_coef[logit_coef.absolute_coefficient > 0]\n",
    "logit_coef.head(20)\n",
    "\n",
    "# plot absolute coefficients in descending order\n",
    "# plt.figure(figsize=(10, 6))\n",
    "# plt.plot(logit_coef.absolute_coefficient.values, 'o')\n",
    "# plt.xlabel('Feature index')\n",
    "# plt.ylabel('Absolute coefficient')\n",
    "# plt.title('Logistic regression coefficients')\n",
    "# plt.show()"
   ]
  },
  {
   "cell_type": "code",
   "execution_count": 226,
   "metadata": {},
   "outputs": [
    {
     "data": {
      "text/html": [
       "<div>\n",
       "<style scoped>\n",
       "    .dataframe tbody tr th:only-of-type {\n",
       "        vertical-align: middle;\n",
       "    }\n",
       "\n",
       "    .dataframe tbody tr th {\n",
       "        vertical-align: top;\n",
       "    }\n",
       "\n",
       "    .dataframe thead th {\n",
       "        text-align: right;\n",
       "    }\n",
       "</style>\n",
       "<table border=\"1\" class=\"dataframe\">\n",
       "  <thead>\n",
       "    <tr style=\"text-align: right;\">\n",
       "      <th></th>\n",
       "      <th>Occupations</th>\n",
       "      <th>bert_token</th>\n",
       "      <th>word2vec_token</th>\n",
       "      <th>word_count</th>\n",
       "      <th>selected_tokens</th>\n",
       "      <th>pc1</th>\n",
       "      <th>pc2</th>\n",
       "    </tr>\n",
       "  </thead>\n",
       "  <tbody>\n",
       "    <tr>\n",
       "      <th>0</th>\n",
       "      <td>Accountant</td>\n",
       "      <td>[0.044247508, -0.062065974, -0.28353956, 0.019...</td>\n",
       "      <td>[0.059326172, -0.1328125, -0.16796875, -0.1816...</td>\n",
       "      <td>1</td>\n",
       "      <td>[-0.19978876, -0.062065974, -0.2217183, 0.1216...</td>\n",
       "      <td>0.018274</td>\n",
       "      <td>-0.119503</td>\n",
       "    </tr>\n",
       "    <tr>\n",
       "      <th>6</th>\n",
       "      <td>Actor</td>\n",
       "      <td>[0.104604356, -0.23240899, -0.5950049, -0.1360...</td>\n",
       "      <td>[0.33789062, -0.028442383, 0.111328125, -0.181...</td>\n",
       "      <td>1</td>\n",
       "      <td>[0.37949157, -0.23240899, -0.285422, 0.2991309...</td>\n",
       "      <td>-0.371115</td>\n",
       "      <td>-0.077121</td>\n",
       "    </tr>\n",
       "    <tr>\n",
       "      <th>7</th>\n",
       "      <td>Actress</td>\n",
       "      <td>[0.044713546, -0.2707646, -0.26443234, -0.0969...</td>\n",
       "      <td>[0.24023438, -0.20214844, 0.16894531, -0.20410...</td>\n",
       "      <td>1</td>\n",
       "      <td>[0.4146122, -0.2707646, -0.2680458, 0.26214847...</td>\n",
       "      <td>-0.336400</td>\n",
       "      <td>0.258191</td>\n",
       "    </tr>\n",
       "    <tr>\n",
       "      <th>8</th>\n",
       "      <td>Actuary</td>\n",
       "      <td>[-0.102212645, -0.09090995, -0.14266734, -0.08...</td>\n",
       "      <td>[0.032714844, -0.41210938, -0.14550781, 0.3691...</td>\n",
       "      <td>1</td>\n",
       "      <td>[0.016106425, -0.09090995, 0.0009229609, 0.196...</td>\n",
       "      <td>0.156803</td>\n",
       "      <td>-0.217130</td>\n",
       "    </tr>\n",
       "    <tr>\n",
       "      <th>9</th>\n",
       "      <td>Acupuncturist</td>\n",
       "      <td>[0.05669831, -0.22730672, -0.20539528, -0.2271...</td>\n",
       "      <td>[0.16894531, -0.29296875, 0.007507324, -0.1503...</td>\n",
       "      <td>1</td>\n",
       "      <td>[-0.15688932, -0.22730672, 0.46686733, -0.1121...</td>\n",
       "      <td>0.772146</td>\n",
       "      <td>0.112440</td>\n",
       "    </tr>\n",
       "  </tbody>\n",
       "</table>\n",
       "</div>"
      ],
      "text/plain": [
       "     Occupations                                         bert_token  \\\n",
       "0     Accountant  [0.044247508, -0.062065974, -0.28353956, 0.019...   \n",
       "6          Actor  [0.104604356, -0.23240899, -0.5950049, -0.1360...   \n",
       "7        Actress  [0.044713546, -0.2707646, -0.26443234, -0.0969...   \n",
       "8        Actuary  [-0.102212645, -0.09090995, -0.14266734, -0.08...   \n",
       "9  Acupuncturist  [0.05669831, -0.22730672, -0.20539528, -0.2271...   \n",
       "\n",
       "                                      word2vec_token  word_count  \\\n",
       "0  [0.059326172, -0.1328125, -0.16796875, -0.1816...           1   \n",
       "6  [0.33789062, -0.028442383, 0.111328125, -0.181...           1   \n",
       "7  [0.24023438, -0.20214844, 0.16894531, -0.20410...           1   \n",
       "8  [0.032714844, -0.41210938, -0.14550781, 0.3691...           1   \n",
       "9  [0.16894531, -0.29296875, 0.007507324, -0.1503...           1   \n",
       "\n",
       "                                     selected_tokens       pc1       pc2  \n",
       "0  [-0.19978876, -0.062065974, -0.2217183, 0.1216...  0.018274 -0.119503  \n",
       "6  [0.37949157, -0.23240899, -0.285422, 0.2991309... -0.371115 -0.077121  \n",
       "7  [0.4146122, -0.2707646, -0.2680458, 0.26214847... -0.336400  0.258191  \n",
       "8  [0.016106425, -0.09090995, 0.0009229609, 0.196...  0.156803 -0.217130  \n",
       "9  [-0.15688932, -0.22730672, 0.46686733, -0.1121...  0.772146  0.112440  "
      ]
     },
     "execution_count": 226,
     "metadata": {},
     "output_type": "execute_result"
    }
   ],
   "source": [
    "selected_features = logit_coef.feature.values\n",
    "\n",
    "jobs_df['selected_tokens'] = jobs_df.bert_token.apply(lambda x: [x[i] for i in selected_features])\n",
    "jobs_df.head()"
   ]
  },
  {
   "cell_type": "code",
   "execution_count": 241,
   "metadata": {},
   "outputs": [
    {
     "data": {
      "text/html": [
       "<div>\n",
       "<style scoped>\n",
       "    .dataframe tbody tr th:only-of-type {\n",
       "        vertical-align: middle;\n",
       "    }\n",
       "\n",
       "    .dataframe tbody tr th {\n",
       "        vertical-align: top;\n",
       "    }\n",
       "\n",
       "    .dataframe thead th {\n",
       "        text-align: right;\n",
       "    }\n",
       "</style>\n",
       "<table border=\"1\" class=\"dataframe\">\n",
       "  <thead>\n",
       "    <tr style=\"text-align: right;\">\n",
       "      <th></th>\n",
       "      <th>Occupations</th>\n",
       "      <th>bert_token</th>\n",
       "      <th>word2vec_token</th>\n",
       "      <th>word_count</th>\n",
       "      <th>selected_tokens</th>\n",
       "      <th>pc1</th>\n",
       "      <th>pc2</th>\n",
       "      <th>pc1_norm</th>\n",
       "      <th>pc2_norm</th>\n",
       "    </tr>\n",
       "  </thead>\n",
       "  <tbody>\n",
       "    <tr>\n",
       "      <th>0</th>\n",
       "      <td>Accountant</td>\n",
       "      <td>[0.044247508, -0.062065974, -0.28353956, 0.019...</td>\n",
       "      <td>[0.059326172, -0.1328125, -0.16796875, -0.1816...</td>\n",
       "      <td>1</td>\n",
       "      <td>[-0.19978876, -0.062065974, -0.2217183, 0.1216...</td>\n",
       "      <td>-0.328126</td>\n",
       "      <td>-0.068276</td>\n",
       "      <td>0.118330</td>\n",
       "      <td>0.405408</td>\n",
       "    </tr>\n",
       "    <tr>\n",
       "      <th>6</th>\n",
       "      <td>Actor</td>\n",
       "      <td>[0.104604356, -0.23240899, -0.5950049, -0.1360...</td>\n",
       "      <td>[0.33789062, -0.028442383, 0.111328125, -0.181...</td>\n",
       "      <td>1</td>\n",
       "      <td>[0.37949157, -0.23240899, -0.285422, 0.2991309...</td>\n",
       "      <td>0.032785</td>\n",
       "      <td>-0.284343</td>\n",
       "      <td>0.188251</td>\n",
       "      <td>0.257535</td>\n",
       "    </tr>\n",
       "    <tr>\n",
       "      <th>7</th>\n",
       "      <td>Actress</td>\n",
       "      <td>[0.044713546, -0.2707646, -0.26443234, -0.0969...</td>\n",
       "      <td>[0.24023438, -0.20214844, 0.16894531, -0.20410...</td>\n",
       "      <td>1</td>\n",
       "      <td>[0.4146122, -0.2707646, -0.2680458, 0.26214847...</td>\n",
       "      <td>-0.149352</td>\n",
       "      <td>-0.011998</td>\n",
       "      <td>0.152965</td>\n",
       "      <td>0.443923</td>\n",
       "    </tr>\n",
       "    <tr>\n",
       "      <th>8</th>\n",
       "      <td>Actuary</td>\n",
       "      <td>[-0.102212645, -0.09090995, -0.14266734, -0.08...</td>\n",
       "      <td>[0.032714844, -0.41210938, -0.14550781, 0.3691...</td>\n",
       "      <td>1</td>\n",
       "      <td>[0.016106425, -0.09090995, 0.0009229609, 0.196...</td>\n",
       "      <td>0.164899</td>\n",
       "      <td>-0.108010</td>\n",
       "      <td>0.213846</td>\n",
       "      <td>0.378215</td>\n",
       "    </tr>\n",
       "    <tr>\n",
       "      <th>9</th>\n",
       "      <td>Acupuncturist</td>\n",
       "      <td>[0.05669831, -0.22730672, -0.20539528, -0.2271...</td>\n",
       "      <td>[0.16894531, -0.29296875, 0.007507324, -0.1503...</td>\n",
       "      <td>1</td>\n",
       "      <td>[-0.15688932, -0.22730672, 0.46686733, -0.1121...</td>\n",
       "      <td>1.803289</td>\n",
       "      <td>0.458955</td>\n",
       "      <td>0.531259</td>\n",
       "      <td>0.766236</td>\n",
       "    </tr>\n",
       "  </tbody>\n",
       "</table>\n",
       "</div>"
      ],
      "text/plain": [
       "     Occupations                                         bert_token  \\\n",
       "0     Accountant  [0.044247508, -0.062065974, -0.28353956, 0.019...   \n",
       "6          Actor  [0.104604356, -0.23240899, -0.5950049, -0.1360...   \n",
       "7        Actress  [0.044713546, -0.2707646, -0.26443234, -0.0969...   \n",
       "8        Actuary  [-0.102212645, -0.09090995, -0.14266734, -0.08...   \n",
       "9  Acupuncturist  [0.05669831, -0.22730672, -0.20539528, -0.2271...   \n",
       "\n",
       "                                      word2vec_token  word_count  \\\n",
       "0  [0.059326172, -0.1328125, -0.16796875, -0.1816...           1   \n",
       "6  [0.33789062, -0.028442383, 0.111328125, -0.181...           1   \n",
       "7  [0.24023438, -0.20214844, 0.16894531, -0.20410...           1   \n",
       "8  [0.032714844, -0.41210938, -0.14550781, 0.3691...           1   \n",
       "9  [0.16894531, -0.29296875, 0.007507324, -0.1503...           1   \n",
       "\n",
       "                                     selected_tokens       pc1       pc2  \\\n",
       "0  [-0.19978876, -0.062065974, -0.2217183, 0.1216... -0.328126 -0.068276   \n",
       "6  [0.37949157, -0.23240899, -0.285422, 0.2991309...  0.032785 -0.284343   \n",
       "7  [0.4146122, -0.2707646, -0.2680458, 0.26214847... -0.149352 -0.011998   \n",
       "8  [0.016106425, -0.09090995, 0.0009229609, 0.196...  0.164899 -0.108010   \n",
       "9  [-0.15688932, -0.22730672, 0.46686733, -0.1121...  1.803289  0.458955   \n",
       "\n",
       "   pc1_norm  pc2_norm  \n",
       "0  0.118330  0.405408  \n",
       "6  0.188251  0.257535  \n",
       "7  0.152965  0.443923  \n",
       "8  0.213846  0.378215  \n",
       "9  0.531259  0.766236  "
      ]
     },
     "execution_count": 241,
     "metadata": {},
     "output_type": "execute_result"
    }
   ],
   "source": [
    "from sklearn.decomposition import PCA\n",
    "\n",
    "# Perform PCA to reduce to 2 dimensions\n",
    "pca = PCA(n_components=2)\n",
    "\n",
    "X = jobs_df['selected_tokens'].tolist()\n",
    "principal_components = pca.fit_transform(X)\n",
    "jobs_df['pc1'] = principal_components[:, 0]\n",
    "jobs_df['pc2'] = principal_components[:, 1]\n",
    "\n",
    "jobs_df['pc1_norm'] = (jobs_df['pc1'] - jobs_df['pc1'].min()) / (jobs_df['pc1'].max() - jobs_df['pc1'].min())\n",
    "jobs_df['pc2_norm'] = (jobs_df['pc2'] - jobs_df['pc2'].min()) / (jobs_df['pc2'].max() - jobs_df['pc2'].min())\n",
    "\n",
    "jobs_df.head()"
   ]
  },
  {
   "cell_type": "code",
   "execution_count": 242,
   "metadata": {},
   "outputs": [
    {
     "data": {
      "application/vnd.plotly.v1+json": {
       "config": {
        "plotlyServerURL": "https://plot.ly"
       },
       "data": [
        {
         "hovertemplate": "<b>%{hovertext}</b><br><br>Principal Component 1=%{x}<br>Principal Component 2=%{y}<extra></extra>",
         "hovertext": [
          "Accountant",
          "Actor",
          "Actress",
          "Actuary",
          "Acupuncturist",
          "Administrator",
          "Agent",
          "Airman",
          "Anaesthetist",
          "Analyst",
          "Anthropologist",
          "Arbitrator",
          "Arborist",
          "Archaeologist",
          "Architect",
          "Archivist",
          "Artist",
          "Arts",
          "Assessor",
          "Assistant",
          "Astrologer",
          "Astronomer",
          "Attendant",
          "Auctioneer",
          "Audiologist",
          "Auditor",
          "Bailiff",
          "Baker",
          "Balloonist",
          "Barber",
          "Barmaid",
          "Barman",
          "Barrister",
          "Beautician",
          "Biochemist",
          "Biologist",
          "Blacksmith",
          "Bodyguard",
          "Bodyshop",
          "Bookmaker",
          "Botanist",
          "Breeder",
          "Brewer",
          "Bricklayer",
          "Broadcaster",
          "Builder",
          "Bursar",
          "Butcher",
          "Butler",
          "Buyer",
          "Cameraman",
          "Caretaker",
          "Carpenter",
          "Cartographer",
          "Cartoonist",
          "Cashier",
          "Caterer",
          "Caulker",
          "Chambermaid",
          "Chandler",
          "Chaplain",
          "Chartered",
          "Chauffeur",
          "Chef",
          "Chemist",
          "Childminder",
          "Chiropractor",
          "Choreographer",
          "Clairvoyant",
          "Cleaner",
          "Clergyman",
          "Cleric",
          "Clerk",
          "Commissioned",
          "Consultant",
          "Coroner",
          "Councillor",
          "Counsellor",
          "Dealer",
          "Decorator",
          "Doctor",
          "Driver",
          "Economist",
          "Editor",
          "Employee",
          "Employment",
          "Engineer",
          "Entertainer",
          "Envoy",
          "Executive",
          "Farmer",
          "Fireman",
          "Florist",
          "Footballer",
          "Foreman",
          "Forester",
          "Furrier",
          "Gambler",
          "Gamekeeper",
          "Garda",
          "Gardener",
          "Genealogist",
          "Geologist",
          "Geophysicist",
          "Gilder",
          "Glazier",
          "Goldsmith",
          "Golfer",
          "Governor",
          "Greengrocer",
          "Grocer",
          "Groom",
          "Groundsman",
          "Gynaecologist",
          "Hairdresser",
          "Handyman",
          "Hawker",
          "Herbalist",
          "Historian",
          "Homeopath",
          "Horticulturalist",
          "Hostess",
          "Hotelier",
          "Housekeeper",
          "Housewife",
          "Hygienist",
          "Hypnotherapist",
          "Hypnotist",
          "Illustrator",
          "Importer",
          "Inspector",
          "Instructor",
          "Interpreter",
          "Interviewer",
          "Inventor",
          "Investigator",
          "Ironmonger",
          "Janitor",
          "Jeweller",
          "Jewellery",
          "Jockey",
          "Joiner",
          "Journalist",
          "Judge",
          "Knitter",
          "Labourer",
          "Laminator",
          "Landlady",
          "Landlord",
          "Landowner",
          "Lawyer",
          "Lecturer",
          "Librarian",
          "Licensee",
          "Licensing",
          "Lifeguard",
          "Lineman",
          "Linguist",
          "Locksmith",
          "Lumberjack",
          "Machinist",
          "Magician",
          "Magistrate",
          "Maid",
          "Manicurist",
          "Manufacturing",
          "Masseur",
          "Masseuse",
          "Mathematician",
          "Matron",
          "Mechanic",
          "Merchandiser",
          "Merchant",
          "Messenger",
          "Metallurgist",
          "Meteorologist",
          "Microbiologist",
          "Midwife",
          "Milkman",
          "Miller",
          "Milliner",
          "Millwright",
          "Miner",
          "Mortician",
          "Musician",
          "Nanny",
          "Navigator",
          "Negotiator",
          "Neurologist",
          "Newsagent",
          "Nun",
          "Nurse",
          "Nurseryman",
          "Nutritionist",
          "Operations",
          "Operative",
          "Operator",
          "Optical",
          "Optician",
          "Optometrist",
          "Orchestral",
          "Organiser",
          "Organist",
          "Ornamental",
          "Ornithologist",
          "Orthopaedic",
          "Osteopath",
          "Packaging",
          "Packer",
          "Paediatrician",
          "Painter",
          "Palaeontologist",
          "Paramedic",
          "Pathologist",
          "Patrolman",
          "Pawnbroker",
          "Pharmacist",
          "Philatelist",
          "Photographer",
          "Physician",
          "Physicist",
          "Physiologist",
          "Physiotherapist",
          "Pilot",
          "Plasterer",
          "Plater",
          "Plumber",
          "Podiatrist",
          "Polisher",
          "Porter",
          "Postman",
          "Postmaster",
          "Postwoman",
          "Potter",
          "Preacher",
          "Premises",
          "Presser",
          "Priest",
          "Printer",
          "Producer",
          "Projectionist",
          "Promoter",
          "Proprietor",
          "Psychiatrist",
          "Psychoanalyst",
          "Psychologist",
          "Psychotherapist",
          "Publican",
          "Publisher",
          "Purser",
          "Radiographer",
          "Radiologist",
          "Receptionist",
          "Recorder",
          "Recreational",
          "Rector",
          "Reflexologist",
          "Registrar",
          "Regulator",
          "Repairer",
          "Reporter",
          "Representative",
          "Researcher",
          "Restaurateur",
          "Restorer",
          "Retired",
          "Rigger",
          "Riveter",
          "Roofer",
          "Saddler",
          "Salesman",
          "Saleswoman",
          "Scaffolder",
          "Scientist",
          "Sculptor",
          "Seaman",
          "Seamstress",
          "Secretary",
          "Servant",
          "Shepherd",
          "Sheriff",
          "Shipwright",
          "Showman",
          "Signalman",
          "Skipper",
          "Slater",
          "Smallholder",
          "Soldier",
          "Solicitor",
          "Sportsman",
          "Sportsperson",
          "Sportswoman",
          "Stationer",
          "Statistician",
          "Steeplejack",
          "Stenographer",
          "Steward",
          "Stewardess",
          "Stockbroker",
          "Stockman",
          "Stonemason",
          "Student",
          "Supervisor",
          "Surgeon",
          "Surveyor",
          "Tacker",
          "Tailor",
          "Tanner",
          "Tattooist",
          "Taxidermist",
          "Teacher",
          "Technician",
          "Telecommunication",
          "Telecommunications",
          "Thatcher",
          "Therapist",
          "Tiler",
          "Tobacconist",
          "Transcriber",
          "Translator",
          "Treasurer",
          "Turner",
          "Tutor",
          "Typist",
          "Undertaker",
          "Underwriter",
          "Valuer",
          "Ventriloquist",
          "Verger",
          "Vicar",
          "Violinist",
          "Waiter",
          "Waitress",
          "Warden",
          "Warehouseman",
          "Watchmaker",
          "Weaver",
          "Welder",
          "Writer",
          "Zoologist"
         ],
         "legendgroup": "",
         "marker": {
          "color": "#636efa",
          "symbol": "circle"
         },
         "mode": "markers",
         "name": "",
         "orientation": "v",
         "showlegend": false,
         "type": "scatter",
         "x": [
          0.1183303966377782,
          0.18825142641387896,
          0.15296524930459496,
          0.2138464045853128,
          0.5312592406023984,
          0.03981531089492591,
          0.045844218719813576,
          0.25252677123200046,
          0.6744592852996604,
          0.09092612018169396,
          0.09079169696452219,
          0.3018953607900654,
          0.2137721099893867,
          0.1359258310481537,
          0.17318237790872454,
          0.30495052188801974,
          0.08594951572122034,
          0.06650171275879037,
          0.21289041008175097,
          0.06813152931034004,
          0.25719478041560545,
          0.18286479882168305,
          0.023548197347737655,
          0.2006159144981987,
          0.28678926105318936,
          0.0724366657159467,
          0.1549124112334578,
          0.06599804772546985,
          0.2236589388037257,
          0.05463206935769074,
          0.16872556397291066,
          0.21954441790735083,
          0.09975879933725881,
          0.28706129294595073,
          0.32649695325679634,
          0.16454035884484638,
          0.09708427715685382,
          0.036878893375803266,
          0.22620381056982272,
          0.12644919984139066,
          0.17143892879460051,
          0.20116418755577112,
          0.06923940367746817,
          0.2930656618910069,
          0.11306534514522715,
          0.0692036548186536,
          0.26299962486425527,
          0.057841978702226404,
          0.04421543548446863,
          0.08463698552866768,
          0.18697711924968166,
          0.16917788887046165,
          0.0840428648651541,
          0.29108456152788126,
          0.08668392134891728,
          0.20206743850187597,
          0.12190801645458016,
          0.09449055742264925,
          0.19048688232808314,
          0.049791212373736966,
          0.12143001170543388,
          0.0126273384955367,
          0.5520474564313735,
          0.06499835042507034,
          0.14048874668773767,
          0.3181087694734725,
          0.5795791205021993,
          0.16280558657616742,
          0.39056506455750756,
          0.06142076343580917,
          0.14100279990814849,
          0.07409178308647894,
          0.1126359629761949,
          0.07122488026841552,
          0.09932779074942416,
          0.11866518222886123,
          0.10647027540942518,
          0.15627234695551284,
          0.02291699396114935,
          0.2465736984290725,
          0.02096063700677506,
          0.03481334300871048,
          0.1654826321350258,
          0.08925744159662705,
          0.022984559758801683,
          0.09371573943450381,
          0.22685443326639632,
          0.07911131159855106,
          0.06772467288435807,
          0.06463958281952246,
          0.16448472999346977,
          0.3274143006410703,
          0.41661506948898896,
          0.22646746435255058,
          0.07553041665642328,
          0.1941828454072115,
          0.09279172142764666,
          0.10011429852333877,
          0.07471711489337032,
          0.26157015236899633,
          0.06163835080379215,
          0.288426207886832,
          0.12277538723958871,
          0.5757740545351212,
          0.10574876611329156,
          0.1954011895033643,
          0.08985837916683713,
          0.12139292076308332,
          0.11106018334034477,
          0.46887180361061653,
          0.4219238274551421,
          0.09518797864386642,
          0.1928408330080712,
          0.5143131541535735,
          0.3767024253217939,
          0.29011347467185983,
          0.09437840758798402,
          0.16407224770725876,
          0.10143702994970927,
          0.36715260798529387,
          0.3493720648212595,
          0.03622365312048524,
          0.1871369895566971,
          0.07977784181814146,
          0.23196972023315304,
          0.4346057195539448,
          0.706173314817984,
          0.4166229334738287,
          0.09316223589155305,
          0.261666729117508,
          0.059498933848374236,
          0.0526611802024304,
          0.05639972807161799,
          0.12954967930334865,
          0.10412271955401078,
          0.09344378448818279,
          0.4405369174022434,
          0.13626394063827882,
          0.2520730674843008,
          0.08227052620512912,
          0.04925651915032677,
          0.12794557346338362,
          0.13530026865972722,
          0.08373343614654208,
          0.21930253202838765,
          0.21576851696200033,
          0.12629277250317464,
          0.3662029916895236,
          0.051506982777766365,
          0.07481808507632898,
          0.12333362227647814,
          0.08867008584105415,
          0.15146055022541116,
          0.2863203530978795,
          0.046932351496520565,
          0.11861133435113544,
          0.10809030108506511,
          0.12780490615703216,
          0.19755841858844914,
          0.10084328321437834,
          0.40320736394996304,
          0.08618883812129999,
          0.054755168815660664,
          0.07217168549110055,
          0.3045446886007204,
          0.12830245460101306,
          0.11874576209445628,
          0.16582022330421253,
          0.22986962419863924,
          0.26778996385460624,
          0.0531537855167563,
          0.09941210313697661,
          0.08423203828194277,
          0.11195924058482148,
          0.4119483071501983,
          0.21688708272749221,
          0.3477906921739737,
          0.23551965675962214,
          0.16762190011401581,
          0.0641752677493205,
          0.19466507762850133,
          0.23266501318628655,
          0,
          0.35942954488293577,
          0.09467451880759144,
          0.12474004125765557,
          0.05754201191958521,
          0.4389590396464788,
          0.3520762116390632,
          0.18088028660526415,
          0.061094436862570475,
          0.059509350207013464,
          0.21076538600226313,
          0.2210288300433711,
          0.013836150196033145,
          0.04073561909746993,
          0.03902310993471135,
          0.06052282242995359,
          0.24540588737767827,
          0.4292997447649183,
          0.1448532519591545,
          0.13355269437228207,
          0.14793269471725637,
          0.12404177265871018,
          0.543252900694631,
          1,
          0.5797082011409586,
          0.07896583061240582,
          0.1997357101859389,
          0.7620107673453627,
          0.13756430178531798,
          0.6108735094974412,
          0.6099017948293602,
          0.26480570749901106,
          0.2153561229296818,
          0.38866858341572413,
          0.5420404624139069,
          0.43391574034796304,
          0.11137089872961123,
          0.06863845777716758,
          0.17569276154905003,
          0.5536274232036585,
          0.8978008062680064,
          0.04685861894941967,
          0.23598842371414283,
          0.07902678260381983,
          0.34759063107370564,
          0.33512716080247307,
          0.03963043800761816,
          0.04070873792405272,
          0.22988090804544364,
          0.1456142628521448,
          0.10743290873081078,
          0.04228806587666224,
          0.06121002826247305,
          0.025254900508926696,
          0.31503294768871026,
          0.05317549877007821,
          0.07364505114725556,
          0.2668401385088137,
          0.22846510940421214,
          0.06993480593178494,
          0.008003335318859767,
          0.10627812438790693,
          0.3939782161318335,
          0.132359718159167,
          0.6089985584886849,
          0.10858404871678129,
          0.08237970313876328,
          0.21131454580214257,
          0.19834835496408176,
          0.2599308824327753,
          0.11043761823538599,
          0.0843712922150009,
          0.04322582476667165,
          0.16479765539670374,
          0.12861884123203907,
          0.10616487005248171,
          0.011245011378577426,
          0.1494676306179409,
          0.08595658272538904,
          0.06654323427162084,
          0.08049743369627846,
          0.6066777969773779,
          0.11418983194708682,
          0.11138977634182551,
          0.08329582873101601,
          0.12059554885318005,
          0.2479010778684144,
          0.16766018717054437,
          0.03481441903019677,
          0.20953802791118742,
          0.16373678015581505,
          0.11233559801153198,
          0.12582670077529545,
          0.10239825132142902,
          0.5209916372991632,
          0.10592125609760329,
          0.026647901905842753,
          0.01336019854875179,
          0.050127616111794095,
          0.17141466899515553,
          0.11377585268980502,
          0.26414963345248427,
          0.03282140936941734,
          0.05535347568581278,
          0.07005977512642203,
          0.05841982138975462,
          0.11256238364065117,
          0.10916735878013197,
          0.21587968446194877,
          0.19786203133740443,
          0.17934065337100347,
          0.4920620803685396,
          0.24401187303232733,
          0.40117221019109656,
          0.06152240297827375,
          0.0888234442007502,
          0.31139008381716055,
          0.09716103327333853,
          0.4966181016014931,
          0.03813689749310595,
          0.13473131473621475,
          0.14420531539773407,
          0.15579624997136413,
          0.03569574707122279,
          0.07905089349983059,
          0.0530038381005194,
          0.18783704130211837,
          0.2557571384318957,
          0.04343728692684089,
          0.06039291105946535,
          0.10086298612164527,
          0.13671777756461473,
          0.13877991323950262,
          0.09399881428288769,
          0.0828933836089661,
          0.10396829082615489,
          0.33350844428151655,
          0.1278472894337906,
          0.23481447674949135,
          0.06559888468886223,
          0.026039400586845007,
          0.40414484578584775,
          0.1711793678321018,
          0.14842915603132115,
          0.07807406130649763,
          0.43962842497931043,
          0.07593908193603673,
          0.23535604348961137,
          0.15706151952688335,
          0.061110335862552816,
          0.10660826840909705,
          0.060648012151708904,
          0.09099374707300723,
          0.0796039134039719,
          0.07252610310286992,
          0.11139448267423505,
          0.16646732048513152,
          0.2160271070226721
         ],
         "xaxis": "x",
         "y": [
          0.4054077751180691,
          0.2575350015940169,
          0.4439233357826564,
          0.37821452523486226,
          0.7662363703760959,
          0.5314554047218156,
          0.38458373906471116,
          0.6221275936795245,
          0.2617657410667239,
          0.28259020939398183,
          0.6812748993646794,
          0.21982107555428618,
          0.4701082756063367,
          0.3313700138312188,
          0.5396776572970734,
          0.3889550088395503,
          0.2989931282239629,
          0.7680273810858758,
          0.29274252976039555,
          0.3218987194371498,
          0.4176236002673706,
          0.23489623283029756,
          0.5706132627553773,
          0.15030667309124887,
          0.45765024032108637,
          0.3066854718563334,
          0.42808138089823145,
          0.6294793992631914,
          0.09509448222339113,
          0.638246734913139,
          0.7144185572533193,
          0.4002765179312623,
          0.4464805980317794,
          0.4918069498218437,
          0.575899664700893,
          0.529332372025685,
          0.20939048145441352,
          0.4293980326315299,
          0.48588834765098304,
          0.5166109019778868,
          0.4556608320417334,
          0.521315120842324,
          0.7452691650495165,
          0.23114885162024068,
          0.23661674637988353,
          0.3452074056053407,
          0.519885448095856,
          0.2764401856872303,
          0.6261839997281019,
          0.25558237968244973,
          0.24764534204412053,
          0.3301402478447229,
          0.6611019848014356,
          0.521521270249825,
          0.41875004268641547,
          0.550651146327863,
          0.38283859702748757,
          0.6107785046448603,
          1,
          0.6507243063558283,
          0.3692744323812772,
          0.5083382232302002,
          0.7650083977570137,
          0.3614857498853927,
          0.32031890575365257,
          0.4531469129467025,
          0.38318383531350536,
          0.598701355808436,
          0.6434189022899768,
          0.5507779117602949,
          0.47094056008744745,
          0.38706482881828713,
          0.45828555686153555,
          0.4767049728901144,
          0.4848065632908985,
          0.32618207235161745,
          0.49703195532622757,
          0.5455703854956461,
          0.2916063482902085,
          0.48843380996575164,
          0.43856996807681914,
          0.3860553764085143,
          0.4446653821494267,
          0.46597501519441253,
          0.4711867813196256,
          0.7199604563468663,
          0.296771652844454,
          0.22405020812860693,
          0.32864843591085474,
          0.45165891023412913,
          0.28872240088146556,
          0.26498709294473494,
          0.551046489951684,
          0.053927705503191495,
          0.5192827445779397,
          0.37902752337561385,
          0.3913574829625192,
          0.25723152660420545,
          0.3329145537058734,
          0.6558062415293151,
          0.7691038795220791,
          0.685015522652847,
          0.3477095106456609,
          0.549207518546391,
          0.6612474523760431,
          0.6898774516988982,
          0.6688218720987757,
          0.16686622240685794,
          0.2986126418258622,
          0.5442321181447217,
          0.3521022256178787,
          0.3551858163548879,
          0.31960640840097077,
          0.7951204316966027,
          0.8009214860319108,
          0.18011631237549336,
          0.5529736542606619,
          0.3759179297615825,
          0.48451918440127134,
          0.5056355107491834,
          0.3579972255647987,
          0.7207386997326176,
          0.49955096813095323,
          0.7550223012313659,
          0.8257357430079627,
          0.7366145899464703,
          0.6061512014923292,
          0.5268436587004495,
          0.6187178286227873,
          0.07364576421962721,
          0.4454058712331262,
          0.45821436616781935,
          0.6260968355916061,
          0.3752956168465291,
          0.38890515360659933,
          0.31269802449981887,
          0.3404189259892836,
          0.5942580684977816,
          0.4727232756752302,
          0.6159503247211975,
          0.3058538097953565,
          0.1928232914904712,
          0.5273634424892427,
          0.3952382764192432,
          0.46471374649284775,
          0.25207721321481114,
          0.7047205004393846,
          0.7646409980537192,
          0.523092160240256,
          0.36203652019004545,
          0.2702348457415554,
          0.4154695758167121,
          0.5646041393521245,
          0.2355553631060882,
          0.5701723945363298,
          0.3983640379208646,
          0.5413311841617086,
          0.6672690290575622,
          0.4730566643430344,
          0.35706288668985287,
          0.23657302640435046,
          0.20316537854480254,
          0.3859021055570658,
          0.8599469215142094,
          0.7011790896020547,
          0.3653298876482428,
          0.6948155291252873,
          0.7927752626822333,
          0.38532461516456656,
          0.8263089673994951,
          0.25365451110683224,
          0.030294335056748327,
          0.1258610823083907,
          0.48085560997784144,
          0.11289957044958354,
          0.42253457133726186,
          0.6722869375146864,
          0.8591432579618294,
          0.37722697964837226,
          0.5917294358507134,
          0.44332687327965925,
          0.6256553788130798,
          0.4844600955324034,
          0.44883825210121375,
          0.37966473626652586,
          0.9004174587066032,
          0.4744282165046055,
          0.1283967687944337,
          0.4912982950017996,
          0.40055654508978716,
          0.6185011538360035,
          0.7236841649186727,
          0.4145674040593101,
          0.5534573617200464,
          0.33934935595812626,
          0.36995364176480905,
          0.37523204996332493,
          0.43306178128234096,
          0.23805263857580722,
          0.29814279337671495,
          0.4486174763668659,
          0.3676839949338498,
          0.3035590615694336,
          0.6864229652888758,
          0.5589262056531297,
          0.25680987804093036,
          0.24517364727662772,
          0.5238509754869223,
          0.49468463143118335,
          0.5431717788885214,
          0.4816643690105197,
          0.45042547207962613,
          0.4021241872736341,
          0.4224759970341813,
          0.29059200060379053,
          0.18167335665343462,
          0.4154620979147031,
          0.5270948565318251,
          0.3091594348711274,
          0.34076790232510606,
          0.3280321686877359,
          0.6124064783601766,
          0.5662349708125877,
          0.5449755130581053,
          0.16730581094855898,
          0.20790980223787026,
          0.22036552808822324,
          0.46604440991444807,
          0.33578652674764103,
          0.7543767774569621,
          0.3115817166047078,
          0.3556953704898017,
          0.4311646074016454,
          0.8037835951657979,
          0.41089269079161955,
          0.5063560835089891,
          0.5522851489165086,
          0.3780452105956967,
          0.5843585079777878,
          0.3433408399234937,
          0.3838587559036101,
          0.18512577380473413,
          0.4850206021779051,
          0.46766313438781953,
          0.8812039337596681,
          0.7792255003671289,
          0.623683137788629,
          0.3572450348912094,
          0.577527245199383,
          0.31914656679738207,
          0.3769099808124401,
          0.1761057974715084,
          0.6991661287942685,
          0.4919398403532814,
          0.45966936316087115,
          0.4177899925954306,
          0.5761849722618033,
          0.530017209570786,
          0.54032399552016,
          0.1899206284460698,
          0.46150860895616824,
          0.3173462284732977,
          0.33571316005500723,
          0.3858648504219799,
          0.2672638895426088,
          0.2651710848809233,
          0.35231935237656237,
          0.5650521945545515,
          0.3272949386243799,
          0.35700481389570826,
          0.23993664143091264,
          0.5081166627665963,
          0.5105410062664157,
          0.38168638051481485,
          0.32494599733287766,
          0.35518087675664056,
          0.7972656032030337,
          0.4718351616270128,
          0.5340652444905191,
          0.6892043748869845,
          0.495054786034044,
          0.5082662726034777,
          0,
          0.5640668711317358,
          0.3211719062741586,
          0.6311473659789268,
          0.55805775273797,
          0.3958479578590078,
          0.48331772909520704,
          0.1838732097685725,
          0.20955591637678708,
          0.5019501971224752,
          0.2954586826844237,
          0.6006615822556304,
          0.3106117588476788,
          0.47237419548867043,
          0.3842064823697033,
          0.651308165867015,
          0.14586683271181053,
          0.3947290458412206,
          0.1782711230448517,
          0.4124691570481871,
          0.4311416908058797,
          0.29083019078364447,
          0.4586069177664051,
          0.34953908714918347,
          0.32211090397612124,
          0.6191807324670301,
          0.2610023961118493,
          0.5270362509717464,
          0.6822540206094063,
          0.41484802256123704,
          0.6553891838217094,
          0.6442538682687824,
          0.9114653243153475,
          0.6049957416282967,
          0.4631818951263239,
          0.3922315718694625,
          0.5205378136906006,
          0.6549696413402641,
          0.08933764641262917,
          0.7349589826569943,
          0.6422210310232273,
          0.4380079828495033,
          0.13527806017017613,
          0.38831488225860555,
          0.42553821799573527,
          0.37797693154627554,
          0.49031873112272545,
          0.20931969992371935,
          0.1807331000079897,
          0.5275606974411552,
          0.7565086288160697,
          0.4500953440321001,
          0.22075383255136824,
          0.4999632482563604,
          0.6795764825779373,
          0.18933548582616264,
          0.5958912469486146,
          0.4731952846317825
         ],
         "yaxis": "y"
        }
       ],
       "layout": {
        "hovermode": "closest",
        "legend": {
         "tracegroupgap": 0
        },
        "template": {
         "data": {
          "bar": [
           {
            "error_x": {
             "color": "#2a3f5f"
            },
            "error_y": {
             "color": "#2a3f5f"
            },
            "marker": {
             "line": {
              "color": "#E5ECF6",
              "width": 0.5
             },
             "pattern": {
              "fillmode": "overlay",
              "size": 10,
              "solidity": 0.2
             }
            },
            "type": "bar"
           }
          ],
          "barpolar": [
           {
            "marker": {
             "line": {
              "color": "#E5ECF6",
              "width": 0.5
             },
             "pattern": {
              "fillmode": "overlay",
              "size": 10,
              "solidity": 0.2
             }
            },
            "type": "barpolar"
           }
          ],
          "carpet": [
           {
            "aaxis": {
             "endlinecolor": "#2a3f5f",
             "gridcolor": "white",
             "linecolor": "white",
             "minorgridcolor": "white",
             "startlinecolor": "#2a3f5f"
            },
            "baxis": {
             "endlinecolor": "#2a3f5f",
             "gridcolor": "white",
             "linecolor": "white",
             "minorgridcolor": "white",
             "startlinecolor": "#2a3f5f"
            },
            "type": "carpet"
           }
          ],
          "choropleth": [
           {
            "colorbar": {
             "outlinewidth": 0,
             "ticks": ""
            },
            "type": "choropleth"
           }
          ],
          "contour": [
           {
            "colorbar": {
             "outlinewidth": 0,
             "ticks": ""
            },
            "colorscale": [
             [
              0,
              "#0d0887"
             ],
             [
              0.1111111111111111,
              "#46039f"
             ],
             [
              0.2222222222222222,
              "#7201a8"
             ],
             [
              0.3333333333333333,
              "#9c179e"
             ],
             [
              0.4444444444444444,
              "#bd3786"
             ],
             [
              0.5555555555555556,
              "#d8576b"
             ],
             [
              0.6666666666666666,
              "#ed7953"
             ],
             [
              0.7777777777777778,
              "#fb9f3a"
             ],
             [
              0.8888888888888888,
              "#fdca26"
             ],
             [
              1,
              "#f0f921"
             ]
            ],
            "type": "contour"
           }
          ],
          "contourcarpet": [
           {
            "colorbar": {
             "outlinewidth": 0,
             "ticks": ""
            },
            "type": "contourcarpet"
           }
          ],
          "heatmap": [
           {
            "colorbar": {
             "outlinewidth": 0,
             "ticks": ""
            },
            "colorscale": [
             [
              0,
              "#0d0887"
             ],
             [
              0.1111111111111111,
              "#46039f"
             ],
             [
              0.2222222222222222,
              "#7201a8"
             ],
             [
              0.3333333333333333,
              "#9c179e"
             ],
             [
              0.4444444444444444,
              "#bd3786"
             ],
             [
              0.5555555555555556,
              "#d8576b"
             ],
             [
              0.6666666666666666,
              "#ed7953"
             ],
             [
              0.7777777777777778,
              "#fb9f3a"
             ],
             [
              0.8888888888888888,
              "#fdca26"
             ],
             [
              1,
              "#f0f921"
             ]
            ],
            "type": "heatmap"
           }
          ],
          "heatmapgl": [
           {
            "colorbar": {
             "outlinewidth": 0,
             "ticks": ""
            },
            "colorscale": [
             [
              0,
              "#0d0887"
             ],
             [
              0.1111111111111111,
              "#46039f"
             ],
             [
              0.2222222222222222,
              "#7201a8"
             ],
             [
              0.3333333333333333,
              "#9c179e"
             ],
             [
              0.4444444444444444,
              "#bd3786"
             ],
             [
              0.5555555555555556,
              "#d8576b"
             ],
             [
              0.6666666666666666,
              "#ed7953"
             ],
             [
              0.7777777777777778,
              "#fb9f3a"
             ],
             [
              0.8888888888888888,
              "#fdca26"
             ],
             [
              1,
              "#f0f921"
             ]
            ],
            "type": "heatmapgl"
           }
          ],
          "histogram": [
           {
            "marker": {
             "pattern": {
              "fillmode": "overlay",
              "size": 10,
              "solidity": 0.2
             }
            },
            "type": "histogram"
           }
          ],
          "histogram2d": [
           {
            "colorbar": {
             "outlinewidth": 0,
             "ticks": ""
            },
            "colorscale": [
             [
              0,
              "#0d0887"
             ],
             [
              0.1111111111111111,
              "#46039f"
             ],
             [
              0.2222222222222222,
              "#7201a8"
             ],
             [
              0.3333333333333333,
              "#9c179e"
             ],
             [
              0.4444444444444444,
              "#bd3786"
             ],
             [
              0.5555555555555556,
              "#d8576b"
             ],
             [
              0.6666666666666666,
              "#ed7953"
             ],
             [
              0.7777777777777778,
              "#fb9f3a"
             ],
             [
              0.8888888888888888,
              "#fdca26"
             ],
             [
              1,
              "#f0f921"
             ]
            ],
            "type": "histogram2d"
           }
          ],
          "histogram2dcontour": [
           {
            "colorbar": {
             "outlinewidth": 0,
             "ticks": ""
            },
            "colorscale": [
             [
              0,
              "#0d0887"
             ],
             [
              0.1111111111111111,
              "#46039f"
             ],
             [
              0.2222222222222222,
              "#7201a8"
             ],
             [
              0.3333333333333333,
              "#9c179e"
             ],
             [
              0.4444444444444444,
              "#bd3786"
             ],
             [
              0.5555555555555556,
              "#d8576b"
             ],
             [
              0.6666666666666666,
              "#ed7953"
             ],
             [
              0.7777777777777778,
              "#fb9f3a"
             ],
             [
              0.8888888888888888,
              "#fdca26"
             ],
             [
              1,
              "#f0f921"
             ]
            ],
            "type": "histogram2dcontour"
           }
          ],
          "mesh3d": [
           {
            "colorbar": {
             "outlinewidth": 0,
             "ticks": ""
            },
            "type": "mesh3d"
           }
          ],
          "parcoords": [
           {
            "line": {
             "colorbar": {
              "outlinewidth": 0,
              "ticks": ""
             }
            },
            "type": "parcoords"
           }
          ],
          "pie": [
           {
            "automargin": true,
            "type": "pie"
           }
          ],
          "scatter": [
           {
            "fillpattern": {
             "fillmode": "overlay",
             "size": 10,
             "solidity": 0.2
            },
            "type": "scatter"
           }
          ],
          "scatter3d": [
           {
            "line": {
             "colorbar": {
              "outlinewidth": 0,
              "ticks": ""
             }
            },
            "marker": {
             "colorbar": {
              "outlinewidth": 0,
              "ticks": ""
             }
            },
            "type": "scatter3d"
           }
          ],
          "scattercarpet": [
           {
            "marker": {
             "colorbar": {
              "outlinewidth": 0,
              "ticks": ""
             }
            },
            "type": "scattercarpet"
           }
          ],
          "scattergeo": [
           {
            "marker": {
             "colorbar": {
              "outlinewidth": 0,
              "ticks": ""
             }
            },
            "type": "scattergeo"
           }
          ],
          "scattergl": [
           {
            "marker": {
             "colorbar": {
              "outlinewidth": 0,
              "ticks": ""
             }
            },
            "type": "scattergl"
           }
          ],
          "scattermapbox": [
           {
            "marker": {
             "colorbar": {
              "outlinewidth": 0,
              "ticks": ""
             }
            },
            "type": "scattermapbox"
           }
          ],
          "scatterpolar": [
           {
            "marker": {
             "colorbar": {
              "outlinewidth": 0,
              "ticks": ""
             }
            },
            "type": "scatterpolar"
           }
          ],
          "scatterpolargl": [
           {
            "marker": {
             "colorbar": {
              "outlinewidth": 0,
              "ticks": ""
             }
            },
            "type": "scatterpolargl"
           }
          ],
          "scatterternary": [
           {
            "marker": {
             "colorbar": {
              "outlinewidth": 0,
              "ticks": ""
             }
            },
            "type": "scatterternary"
           }
          ],
          "surface": [
           {
            "colorbar": {
             "outlinewidth": 0,
             "ticks": ""
            },
            "colorscale": [
             [
              0,
              "#0d0887"
             ],
             [
              0.1111111111111111,
              "#46039f"
             ],
             [
              0.2222222222222222,
              "#7201a8"
             ],
             [
              0.3333333333333333,
              "#9c179e"
             ],
             [
              0.4444444444444444,
              "#bd3786"
             ],
             [
              0.5555555555555556,
              "#d8576b"
             ],
             [
              0.6666666666666666,
              "#ed7953"
             ],
             [
              0.7777777777777778,
              "#fb9f3a"
             ],
             [
              0.8888888888888888,
              "#fdca26"
             ],
             [
              1,
              "#f0f921"
             ]
            ],
            "type": "surface"
           }
          ],
          "table": [
           {
            "cells": {
             "fill": {
              "color": "#EBF0F8"
             },
             "line": {
              "color": "white"
             }
            },
            "header": {
             "fill": {
              "color": "#C8D4E3"
             },
             "line": {
              "color": "white"
             }
            },
            "type": "table"
           }
          ]
         },
         "layout": {
          "annotationdefaults": {
           "arrowcolor": "#2a3f5f",
           "arrowhead": 0,
           "arrowwidth": 1
          },
          "autotypenumbers": "strict",
          "coloraxis": {
           "colorbar": {
            "outlinewidth": 0,
            "ticks": ""
           }
          },
          "colorscale": {
           "diverging": [
            [
             0,
             "#8e0152"
            ],
            [
             0.1,
             "#c51b7d"
            ],
            [
             0.2,
             "#de77ae"
            ],
            [
             0.3,
             "#f1b6da"
            ],
            [
             0.4,
             "#fde0ef"
            ],
            [
             0.5,
             "#f7f7f7"
            ],
            [
             0.6,
             "#e6f5d0"
            ],
            [
             0.7,
             "#b8e186"
            ],
            [
             0.8,
             "#7fbc41"
            ],
            [
             0.9,
             "#4d9221"
            ],
            [
             1,
             "#276419"
            ]
           ],
           "sequential": [
            [
             0,
             "#0d0887"
            ],
            [
             0.1111111111111111,
             "#46039f"
            ],
            [
             0.2222222222222222,
             "#7201a8"
            ],
            [
             0.3333333333333333,
             "#9c179e"
            ],
            [
             0.4444444444444444,
             "#bd3786"
            ],
            [
             0.5555555555555556,
             "#d8576b"
            ],
            [
             0.6666666666666666,
             "#ed7953"
            ],
            [
             0.7777777777777778,
             "#fb9f3a"
            ],
            [
             0.8888888888888888,
             "#fdca26"
            ],
            [
             1,
             "#f0f921"
            ]
           ],
           "sequentialminus": [
            [
             0,
             "#0d0887"
            ],
            [
             0.1111111111111111,
             "#46039f"
            ],
            [
             0.2222222222222222,
             "#7201a8"
            ],
            [
             0.3333333333333333,
             "#9c179e"
            ],
            [
             0.4444444444444444,
             "#bd3786"
            ],
            [
             0.5555555555555556,
             "#d8576b"
            ],
            [
             0.6666666666666666,
             "#ed7953"
            ],
            [
             0.7777777777777778,
             "#fb9f3a"
            ],
            [
             0.8888888888888888,
             "#fdca26"
            ],
            [
             1,
             "#f0f921"
            ]
           ]
          },
          "colorway": [
           "#636efa",
           "#EF553B",
           "#00cc96",
           "#ab63fa",
           "#FFA15A",
           "#19d3f3",
           "#FF6692",
           "#B6E880",
           "#FF97FF",
           "#FECB52"
          ],
          "font": {
           "color": "#2a3f5f"
          },
          "geo": {
           "bgcolor": "white",
           "lakecolor": "white",
           "landcolor": "#E5ECF6",
           "showlakes": true,
           "showland": true,
           "subunitcolor": "white"
          },
          "hoverlabel": {
           "align": "left"
          },
          "hovermode": "closest",
          "mapbox": {
           "style": "light"
          },
          "paper_bgcolor": "white",
          "plot_bgcolor": "#E5ECF6",
          "polar": {
           "angularaxis": {
            "gridcolor": "white",
            "linecolor": "white",
            "ticks": ""
           },
           "bgcolor": "#E5ECF6",
           "radialaxis": {
            "gridcolor": "white",
            "linecolor": "white",
            "ticks": ""
           }
          },
          "scene": {
           "xaxis": {
            "backgroundcolor": "#E5ECF6",
            "gridcolor": "white",
            "gridwidth": 2,
            "linecolor": "white",
            "showbackground": true,
            "ticks": "",
            "zerolinecolor": "white"
           },
           "yaxis": {
            "backgroundcolor": "#E5ECF6",
            "gridcolor": "white",
            "gridwidth": 2,
            "linecolor": "white",
            "showbackground": true,
            "ticks": "",
            "zerolinecolor": "white"
           },
           "zaxis": {
            "backgroundcolor": "#E5ECF6",
            "gridcolor": "white",
            "gridwidth": 2,
            "linecolor": "white",
            "showbackground": true,
            "ticks": "",
            "zerolinecolor": "white"
           }
          },
          "shapedefaults": {
           "line": {
            "color": "#2a3f5f"
           }
          },
          "ternary": {
           "aaxis": {
            "gridcolor": "white",
            "linecolor": "white",
            "ticks": ""
           },
           "baxis": {
            "gridcolor": "white",
            "linecolor": "white",
            "ticks": ""
           },
           "bgcolor": "#E5ECF6",
           "caxis": {
            "gridcolor": "white",
            "linecolor": "white",
            "ticks": ""
           }
          },
          "title": {
           "x": 0.05
          },
          "xaxis": {
           "automargin": true,
           "gridcolor": "white",
           "linecolor": "white",
           "ticks": "",
           "title": {
            "standoff": 15
           },
           "zerolinecolor": "white",
           "zerolinewidth": 2
          },
          "yaxis": {
           "automargin": true,
           "gridcolor": "white",
           "linecolor": "white",
           "ticks": "",
           "title": {
            "standoff": 15
           },
           "zerolinecolor": "white",
           "zerolinewidth": 2
          }
         }
        },
        "title": {
         "text": "Interactive Job Titles Map"
        },
        "xaxis": {
         "anchor": "y",
         "domain": [
          0,
          1
         ],
         "title": {
          "text": "Principal Component 1"
         }
        },
        "yaxis": {
         "anchor": "x",
         "domain": [
          0,
          1
         ],
         "title": {
          "text": "Principal Component 2"
         }
        }
       }
      }
     },
     "metadata": {},
     "output_type": "display_data"
    }
   ],
   "source": [
    "import plotly.express as px\n",
    "# pcs = ['pc1_tsne', 'pc2_tsne']\n",
    "# pcs = ['pc1_isomap', 'pc2_isomap']\n",
    "# pcs = ['pc1_svd', 'pc2_svd']\n",
    "# pcs = ['pc1', 'pc2']\n",
    "pcs = ['pc1_norm', 'pc2_norm']\n",
    "\n",
    "fig = px.scatter(jobs_df, x=pcs[0], y=pcs[1], hover_name='Occupations',\n",
    "                 title='Interactive Map of Job Titles',\n",
    "                 labels={pcs[0]: 'Principal Component 1', pcs[1]: 'Principal Component 2'})\n",
    "\n",
    "# Update layout to improve the appearance\n",
    "fig.update_layout(title='Interactive Job Titles Map',\n",
    "                  xaxis_title='Principal Component 1',\n",
    "                  yaxis_title='Principal Component 2',\n",
    "                  hovermode='closest')\n",
    "\n",
    "# Show the plot\n",
    "fig.show()"
   ]
  },
  {
   "cell_type": "code",
   "execution_count": 243,
   "metadata": {},
   "outputs": [
    {
     "data": {
      "text/html": [
       "<div>\n",
       "<style scoped>\n",
       "    .dataframe tbody tr th:only-of-type {\n",
       "        vertical-align: middle;\n",
       "    }\n",
       "\n",
       "    .dataframe tbody tr th {\n",
       "        vertical-align: top;\n",
       "    }\n",
       "\n",
       "    .dataframe thead th {\n",
       "        text-align: right;\n",
       "    }\n",
       "</style>\n",
       "<table border=\"1\" class=\"dataframe\">\n",
       "  <thead>\n",
       "    <tr style=\"text-align: right;\">\n",
       "      <th></th>\n",
       "      <th>Top 20 Descending PC1</th>\n",
       "      <th>PC1_desc</th>\n",
       "      <th>Top 20 Ascending PC1</th>\n",
       "      <th>PC1_asc</th>\n",
       "      <th>Top 20 Descending PC2</th>\n",
       "      <th>PC2_desc</th>\n",
       "      <th>Top 20 Ascending PC2</th>\n",
       "      <th>PC2_asc</th>\n",
       "    </tr>\n",
       "  </thead>\n",
       "  <tbody>\n",
       "    <tr>\n",
       "      <th>0</th>\n",
       "      <td>Orthopaedic</td>\n",
       "      <td>1.000000</td>\n",
       "      <td>Miner</td>\n",
       "      <td>0.000000</td>\n",
       "      <td>Chambermaid</td>\n",
       "      <td>1.000000</td>\n",
       "      <td>Showman</td>\n",
       "      <td>0.000000</td>\n",
       "    </tr>\n",
       "    <tr>\n",
       "      <th>1</th>\n",
       "      <td>Physiotherapist</td>\n",
       "      <td>0.897801</td>\n",
       "      <td>Proprietor</td>\n",
       "      <td>0.008003</td>\n",
       "      <td>Thatcher</td>\n",
       "      <td>0.911465</td>\n",
       "      <td>Merchandiser</td>\n",
       "      <td>0.030294</td>\n",
       "    </tr>\n",
       "    <tr>\n",
       "      <th>2</th>\n",
       "      <td>Paediatrician</td>\n",
       "      <td>0.762011</td>\n",
       "      <td>Regulator</td>\n",
       "      <td>0.011245</td>\n",
       "      <td>Nanny</td>\n",
       "      <td>0.900417</td>\n",
       "      <td>Footballer</td>\n",
       "      <td>0.053928</td>\n",
       "    </tr>\n",
       "    <tr>\n",
       "      <th>3</th>\n",
       "      <td>Hypnotherapist</td>\n",
       "      <td>0.706173</td>\n",
       "      <td>Chartered</td>\n",
       "      <td>0.012627</td>\n",
       "      <td>Psychoanalyst</td>\n",
       "      <td>0.881204</td>\n",
       "      <td>Importer</td>\n",
       "      <td>0.073646</td>\n",
       "    </tr>\n",
       "    <tr>\n",
       "      <th>4</th>\n",
       "      <td>Anaesthetist</td>\n",
       "      <td>0.674459</td>\n",
       "      <td>Shepherd</td>\n",
       "      <td>0.013360</td>\n",
       "      <td>Maid</td>\n",
       "      <td>0.859947</td>\n",
       "      <td>Treasurer</td>\n",
       "      <td>0.089338</td>\n",
       "    </tr>\n",
       "    <tr>\n",
       "      <th>5</th>\n",
       "      <td>Palaeontologist</td>\n",
       "      <td>0.610874</td>\n",
       "      <td>Operations</td>\n",
       "      <td>0.013836</td>\n",
       "      <td>Midwife</td>\n",
       "      <td>0.859143</td>\n",
       "      <td>Balloonist</td>\n",
       "      <td>0.095094</td>\n",
       "    </tr>\n",
       "    <tr>\n",
       "      <th>6</th>\n",
       "      <td>Paramedic</td>\n",
       "      <td>0.609902</td>\n",
       "      <td>Doctor</td>\n",
       "      <td>0.020961</td>\n",
       "      <td>Matron</td>\n",
       "      <td>0.826309</td>\n",
       "      <td>Metallurgist</td>\n",
       "      <td>0.112900</td>\n",
       "    </tr>\n",
       "    <tr>\n",
       "      <th>7</th>\n",
       "      <td>Psychotherapist</td>\n",
       "      <td>0.608999</td>\n",
       "      <td>Dealer</td>\n",
       "      <td>0.022917</td>\n",
       "      <td>Housewife</td>\n",
       "      <td>0.825736</td>\n",
       "      <td>Merchant</td>\n",
       "      <td>0.125861</td>\n",
       "    </tr>\n",
       "    <tr>\n",
       "      <th>8</th>\n",
       "      <td>Restaurateur</td>\n",
       "      <td>0.606678</td>\n",
       "      <td>Employee</td>\n",
       "      <td>0.022985</td>\n",
       "      <td>Potter</td>\n",
       "      <td>0.803784</td>\n",
       "      <td>Negotiator</td>\n",
       "      <td>0.128397</td>\n",
       "    </tr>\n",
       "    <tr>\n",
       "      <th>9</th>\n",
       "      <td>Osteopath</td>\n",
       "      <td>0.579708</td>\n",
       "      <td>Attendant</td>\n",
       "      <td>0.023548</td>\n",
       "      <td>Hairdresser</td>\n",
       "      <td>0.800921</td>\n",
       "      <td>Undertaker</td>\n",
       "      <td>0.135278</td>\n",
       "    </tr>\n",
       "  </tbody>\n",
       "</table>\n",
       "</div>"
      ],
      "text/plain": [
       "  Top 20 Descending PC1  PC1_desc Top 20 Ascending PC1   PC1_asc  \\\n",
       "0           Orthopaedic  1.000000                Miner  0.000000   \n",
       "1       Physiotherapist  0.897801           Proprietor  0.008003   \n",
       "2         Paediatrician  0.762011            Regulator  0.011245   \n",
       "3        Hypnotherapist  0.706173            Chartered  0.012627   \n",
       "4          Anaesthetist  0.674459             Shepherd  0.013360   \n",
       "5       Palaeontologist  0.610874           Operations  0.013836   \n",
       "6             Paramedic  0.609902               Doctor  0.020961   \n",
       "7       Psychotherapist  0.608999               Dealer  0.022917   \n",
       "8          Restaurateur  0.606678             Employee  0.022985   \n",
       "9             Osteopath  0.579708            Attendant  0.023548   \n",
       "\n",
       "  Top 20 Descending PC2  PC2_desc Top 20 Ascending PC2   PC2_asc  \n",
       "0           Chambermaid  1.000000              Showman  0.000000  \n",
       "1              Thatcher  0.911465         Merchandiser  0.030294  \n",
       "2                 Nanny  0.900417           Footballer  0.053928  \n",
       "3         Psychoanalyst  0.881204             Importer  0.073646  \n",
       "4                  Maid  0.859947            Treasurer  0.089338  \n",
       "5               Midwife  0.859143           Balloonist  0.095094  \n",
       "6                Matron  0.826309         Metallurgist  0.112900  \n",
       "7             Housewife  0.825736             Merchant  0.125861  \n",
       "8                Potter  0.803784           Negotiator  0.128397  \n",
       "9           Hairdresser  0.800921           Undertaker  0.135278  "
      ]
     },
     "execution_count": 243,
     "metadata": {},
     "output_type": "execute_result"
    }
   ],
   "source": [
    "n = 10\n",
    "\n",
    "top_n_desc_pc1 = jobs_df.nlargest(n, pcs[0]).Occupations.values\n",
    "top_n_asc_pc1 = jobs_df.nsmallest(n, pcs[0]).Occupations.values\n",
    "top_n_desc_pc2 = jobs_df.nlargest(n, pcs[1]).Occupations.values\n",
    "top_n_asc_pc2 = jobs_df.nsmallest(n, pcs[1]).Occupations.values\n",
    "\n",
    "top_n_desc_pc1_values = jobs_df.nlargest(n, pcs[0])[f'{pcs[0]}'].values\n",
    "top_n_asc_pc1_values = jobs_df.nsmallest(n, pcs[0])[f'{pcs[0]}'].values\n",
    "top_n_desc_pc2_values = jobs_df.nlargest(n, pcs[1])[f'{pcs[1]}'].values\n",
    "top_n_asc_pc2_values = jobs_df.nsmallest(n, pcs[1])[f'{pcs[1]}'].values\n",
    "\n",
    "table = pd.DataFrame({\n",
    "    'Top 20 Descending PC1': top_n_desc_pc1,\n",
    "    'PC1_desc': top_n_desc_pc1_values,\n",
    "    'Top 20 Ascending PC1': top_n_asc_pc1,\n",
    "    'PC1_asc': top_n_asc_pc1_values,\n",
    "    'Top 20 Descending PC2': top_n_desc_pc2,\n",
    "    'PC2_desc': top_n_desc_pc2_values,\n",
    "    'Top 20 Ascending PC2': top_n_asc_pc2,\n",
    "    'PC2_asc': top_n_asc_pc2_values\n",
    "})\n",
    "\n",
    "table"
   ]
  },
  {
   "cell_type": "code",
   "execution_count": null,
   "metadata": {},
   "outputs": [],
   "source": []
  }
 ],
 "metadata": {
  "kernelspec": {
   "display_name": "gender_bias",
   "language": "python",
   "name": "python3"
  },
  "language_info": {
   "codemirror_mode": {
    "name": "ipython",
    "version": 3
   },
   "file_extension": ".py",
   "mimetype": "text/x-python",
   "name": "python",
   "nbconvert_exporter": "python",
   "pygments_lexer": "ipython3",
   "version": "3.8.19"
  }
 },
 "nbformat": 4,
 "nbformat_minor": 2
}
