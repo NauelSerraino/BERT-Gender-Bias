{
 "cells": [
  {
   "cell_type": "code",
   "execution_count": 8,
   "metadata": {},
   "outputs": [],
   "source": [
    "import os\n",
    "import pandas as pd\n",
    "import numpy as np\n",
    "from transformers import BertTokenizer\n",
    "import torch\n",
    "\n",
    "import sys\n",
    "sys.path.append('/home/nauel/bert_gender_bias')\n",
    "import warnings\n",
    "warnings.filterwarnings(\"ignore\")\n",
    "\n",
    "\n",
    "from pipelines.utils.paths import EXTERNAL_DATA_DIR, INTERIM_DATA_DIR"
   ]
  },
  {
   "cell_type": "code",
   "execution_count": 18,
   "metadata": {},
   "outputs": [],
   "source": [
    "gendered_words = pd.read_pickle(os.path.join(INTERIM_DATA_DIR, 'gender_binary_words_TOKEN.pkl'))\n",
    "jobs_df = pd.read_pickle(os.path.join(INTERIM_DATA_DIR, 'occupations_TOKEN.pkl'))"
   ]
  },
  {
   "cell_type": "code",
   "execution_count": 117,
   "metadata": {},
   "outputs": [
    {
     "name": "stdout",
     "output_type": "stream",
     "text": [
      "(431, 6)\n"
     ]
    },
    {
     "data": {
      "text/html": [
       "<div>\n",
       "<style scoped>\n",
       "    .dataframe tbody tr th:only-of-type {\n",
       "        vertical-align: middle;\n",
       "    }\n",
       "\n",
       "    .dataframe tbody tr th {\n",
       "        vertical-align: top;\n",
       "    }\n",
       "\n",
       "    .dataframe thead th {\n",
       "        text-align: right;\n",
       "    }\n",
       "</style>\n",
       "<table border=\"1\" class=\"dataframe\">\n",
       "  <thead>\n",
       "    <tr style=\"text-align: right;\">\n",
       "      <th></th>\n",
       "      <th>word</th>\n",
       "      <th>gender_binary</th>\n",
       "      <th>bert_token</th>\n",
       "      <th>word2vec_token</th>\n",
       "      <th>word_count</th>\n",
       "      <th>shape</th>\n",
       "    </tr>\n",
       "  </thead>\n",
       "  <tbody>\n",
       "    <tr>\n",
       "      <th>0</th>\n",
       "      <td>abbot</td>\n",
       "      <td>0</td>\n",
       "      <td>[-0.39571184, -0.093838364, 0.06868138, 0.1723...</td>\n",
       "      <td>[0.40039062, 0.41015625, 0.36523438, 0.2207031...</td>\n",
       "      <td>1</td>\n",
       "      <td>300</td>\n",
       "    </tr>\n",
       "    <tr>\n",
       "      <th>1</th>\n",
       "      <td>abbots</td>\n",
       "      <td>0</td>\n",
       "      <td>[-0.18790531, -0.077521764, -0.3876859, 0.1816...</td>\n",
       "      <td>[0.30664062, 0.33398438, 0.1953125, 0.50390625...</td>\n",
       "      <td>1</td>\n",
       "      <td>300</td>\n",
       "    </tr>\n",
       "    <tr>\n",
       "      <th>2</th>\n",
       "      <td>adulterer</td>\n",
       "      <td>0</td>\n",
       "      <td>[-0.45352724, -0.38397712, -0.25277817, -0.266...</td>\n",
       "      <td>[0.42773438, -0.28515625, -0.0625, 0.020263672...</td>\n",
       "      <td>1</td>\n",
       "      <td>300</td>\n",
       "    </tr>\n",
       "    <tr>\n",
       "      <th>3</th>\n",
       "      <td>adulterers</td>\n",
       "      <td>0</td>\n",
       "      <td>[-0.17249976, -0.15101261, -0.3717648, -0.0279...</td>\n",
       "      <td>[-0.14160156, -0.22558594, -0.042236328, 0.208...</td>\n",
       "      <td>1</td>\n",
       "      <td>300</td>\n",
       "    </tr>\n",
       "    <tr>\n",
       "      <th>4</th>\n",
       "      <td>airman</td>\n",
       "      <td>0</td>\n",
       "      <td>[-0.20044291, -0.020562049, -0.276353, -0.0372...</td>\n",
       "      <td>[0.49023438, -0.15917969, -0.022460938, -0.024...</td>\n",
       "      <td>1</td>\n",
       "      <td>300</td>\n",
       "    </tr>\n",
       "  </tbody>\n",
       "</table>\n",
       "</div>"
      ],
      "text/plain": [
       "         word  gender_binary  \\\n",
       "0       abbot              0   \n",
       "1      abbots              0   \n",
       "2   adulterer              0   \n",
       "3  adulterers              0   \n",
       "4      airman              0   \n",
       "\n",
       "                                          bert_token  \\\n",
       "0  [-0.39571184, -0.093838364, 0.06868138, 0.1723...   \n",
       "1  [-0.18790531, -0.077521764, -0.3876859, 0.1816...   \n",
       "2  [-0.45352724, -0.38397712, -0.25277817, -0.266...   \n",
       "3  [-0.17249976, -0.15101261, -0.3717648, -0.0279...   \n",
       "4  [-0.20044291, -0.020562049, -0.276353, -0.0372...   \n",
       "\n",
       "                                      word2vec_token  word_count  shape  \n",
       "0  [0.40039062, 0.41015625, 0.36523438, 0.2207031...           1    300  \n",
       "1  [0.30664062, 0.33398438, 0.1953125, 0.50390625...           1    300  \n",
       "2  [0.42773438, -0.28515625, -0.0625, 0.020263672...           1    300  \n",
       "3  [-0.14160156, -0.22558594, -0.042236328, 0.208...           1    300  \n",
       "4  [0.49023438, -0.15917969, -0.022460938, -0.024...           1    300  "
      ]
     },
     "execution_count": 117,
     "metadata": {},
     "output_type": "execute_result"
    }
   ],
   "source": [
    "gendered_words.dropna(inplace=True)\n",
    "print(gendered_words.shape)\n",
    "gendered_words.head()"
   ]
  },
  {
   "cell_type": "code",
   "execution_count": 118,
   "metadata": {},
   "outputs": [
    {
     "name": "stdout",
     "output_type": "stream",
     "text": [
      "(378, 4)\n"
     ]
    },
    {
     "data": {
      "text/html": [
       "<div>\n",
       "<style scoped>\n",
       "    .dataframe tbody tr th:only-of-type {\n",
       "        vertical-align: middle;\n",
       "    }\n",
       "\n",
       "    .dataframe tbody tr th {\n",
       "        vertical-align: top;\n",
       "    }\n",
       "\n",
       "    .dataframe thead th {\n",
       "        text-align: right;\n",
       "    }\n",
       "</style>\n",
       "<table border=\"1\" class=\"dataframe\">\n",
       "  <thead>\n",
       "    <tr style=\"text-align: right;\">\n",
       "      <th></th>\n",
       "      <th>Occupations</th>\n",
       "      <th>bert_token</th>\n",
       "      <th>word2vec_token</th>\n",
       "      <th>word_count</th>\n",
       "    </tr>\n",
       "  </thead>\n",
       "  <tbody>\n",
       "    <tr>\n",
       "      <th>0</th>\n",
       "      <td>Accountant</td>\n",
       "      <td>[0.044247508, -0.062065974, -0.28353956, 0.019...</td>\n",
       "      <td>[0.059326172, -0.1328125, -0.16796875, -0.1816...</td>\n",
       "      <td>1</td>\n",
       "    </tr>\n",
       "    <tr>\n",
       "      <th>6</th>\n",
       "      <td>Actor</td>\n",
       "      <td>[0.104604356, -0.23240899, -0.5950049, -0.1360...</td>\n",
       "      <td>[0.33789062, -0.028442383, 0.111328125, -0.181...</td>\n",
       "      <td>1</td>\n",
       "    </tr>\n",
       "    <tr>\n",
       "      <th>7</th>\n",
       "      <td>Actress</td>\n",
       "      <td>[0.044713546, -0.2707646, -0.26443234, -0.0969...</td>\n",
       "      <td>[0.24023438, -0.20214844, 0.16894531, -0.20410...</td>\n",
       "      <td>1</td>\n",
       "    </tr>\n",
       "    <tr>\n",
       "      <th>8</th>\n",
       "      <td>Actuary</td>\n",
       "      <td>[-0.102212645, -0.09090995, -0.14266734, -0.08...</td>\n",
       "      <td>[0.032714844, -0.41210938, -0.14550781, 0.3691...</td>\n",
       "      <td>1</td>\n",
       "    </tr>\n",
       "    <tr>\n",
       "      <th>9</th>\n",
       "      <td>Acupuncturist</td>\n",
       "      <td>[0.05669831, -0.22730672, -0.20539528, -0.2271...</td>\n",
       "      <td>[0.16894531, -0.29296875, 0.007507324, -0.1503...</td>\n",
       "      <td>1</td>\n",
       "    </tr>\n",
       "  </tbody>\n",
       "</table>\n",
       "</div>"
      ],
      "text/plain": [
       "     Occupations                                         bert_token  \\\n",
       "0     Accountant  [0.044247508, -0.062065974, -0.28353956, 0.019...   \n",
       "6          Actor  [0.104604356, -0.23240899, -0.5950049, -0.1360...   \n",
       "7        Actress  [0.044713546, -0.2707646, -0.26443234, -0.0969...   \n",
       "8        Actuary  [-0.102212645, -0.09090995, -0.14266734, -0.08...   \n",
       "9  Acupuncturist  [0.05669831, -0.22730672, -0.20539528, -0.2271...   \n",
       "\n",
       "                                      word2vec_token  word_count  \n",
       "0  [0.059326172, -0.1328125, -0.16796875, -0.1816...           1  \n",
       "6  [0.33789062, -0.028442383, 0.111328125, -0.181...           1  \n",
       "7  [0.24023438, -0.20214844, 0.16894531, -0.20410...           1  \n",
       "8  [0.032714844, -0.41210938, -0.14550781, 0.3691...           1  \n",
       "9  [0.16894531, -0.29296875, 0.007507324, -0.1503...           1  "
      ]
     },
     "execution_count": 118,
     "metadata": {},
     "output_type": "execute_result"
    }
   ],
   "source": [
    "print(jobs_df.shape)\n",
    "jobs_df.head()"
   ]
  },
  {
   "cell_type": "code",
   "execution_count": 119,
   "metadata": {},
   "outputs": [
    {
     "name": "stdout",
     "output_type": "stream",
     "text": [
      "bert_token\n",
      "Accuracy:  0.9976798143851509\n",
      "word2vec_token\n",
      "Accuracy:  0.9976798143851509\n"
     ]
    }
   ],
   "source": [
    "token_cols = ['bert_token', 'word2vec_token']\n",
    "\n",
    "import sklearn\n",
    "\n",
    "from sklearn import preprocessing\n",
    "from sklearn.svm import LinearSVC\n",
    "from sklearn.pipeline import make_pipeline\n",
    "from sklearn.preprocessing import StandardScaler\n",
    "\n",
    "for token_col in token_cols:\n",
    "    print(token_col)\n",
    "    \n",
    "    X = gendered_words[token_col].values.tolist()\n",
    "    y = np.array(gendered_words.gender_binary.tolist())\n",
    "    clf = make_pipeline(StandardScaler(),\n",
    "                        LinearSVC(random_state=0, tol=1e-5))\n",
    "    clf.fit(X, y)\n",
    "\n",
    "    print(\"Accuracy: \", clf.score(X, y))\n",
    "    "
   ]
  }
 ],
 "metadata": {
  "kernelspec": {
   "display_name": "gender_bias",
   "language": "python",
   "name": "python3"
  },
  "language_info": {
   "codemirror_mode": {
    "name": "ipython",
    "version": 3
   },
   "file_extension": ".py",
   "mimetype": "text/x-python",
   "name": "python",
   "nbconvert_exporter": "python",
   "pygments_lexer": "ipython3",
   "version": "3.8.19"
  }
 },
 "nbformat": 4,
 "nbformat_minor": 2
}
